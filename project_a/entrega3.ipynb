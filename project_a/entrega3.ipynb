{
 "cells": [
  {
   "cell_type": "markdown",
   "id": "cca9763e",
   "metadata": {},
   "source": [
    "Imports"
   ]
  },
  {
   "cell_type": "code",
   "execution_count": 1081,
   "id": "8fb50a82",
   "metadata": {},
   "outputs": [],
   "source": [
    "import pandas as pd\n",
    "import numpy as np\n",
    "from pyomo.environ import * \n",
    "from pyomo.opt import SolverFactory\n",
    "import folium\n",
    "import csv\n",
    "import random  \n",
    "import copy\n",
    "from collections import Counter"
   ]
  },
  {
   "cell_type": "markdown",
   "id": "45a98cba",
   "metadata": {},
   "source": [
    "Cargar archivos requerido por la instancia"
   ]
  },
  {
   "cell_type": "code",
   "execution_count": 1082,
   "id": "0880d7e6",
   "metadata": {},
   "outputs": [],
   "source": [
    "clients_df = pd.read_csv(\"Proyecto_Caso_Base/clients.csv\")\n",
    "depots_df = pd.read_csv(\"Proyecto_Caso_Base/depots.csv\")\n",
    "vehicles_df = pd.read_csv(\"Proyecto_Caso_Base/vehicles.csv\")\n"
   ]
  },
  {
   "cell_type": "code",
   "execution_count": 1083,
   "id": "a07c7cf7",
   "metadata": {},
   "outputs": [
    {
     "name": "stdout",
     "output_type": "stream",
     "text": [
      "    ClientID  LocationID  Demand  Longitude  Latitude\n",
      "0          1           2      13 -74.098938  4.597954\n",
      "1          2           3      15 -74.075571  4.687821\n",
      "2          3           4      12 -74.107085  4.709494\n",
      "3          4           5      15 -74.097280  4.605029\n",
      "4          5           6      20 -74.164641  4.648464\n",
      "5          6           7      17 -74.120838  4.662137\n",
      "6          7           8      17 -74.022131  4.697499\n",
      "7          8           9      20 -74.172075  4.649417\n",
      "8          9          10      20 -74.156153  4.606311\n",
      "9         10          11      15 -74.090411  4.557380\n",
      "10        11          12      17 -74.178023  4.591594\n",
      "11        12          13      12 -74.101541  4.756417\n",
      "12        13          14      21 -74.096909  4.646217\n",
      "13        14          15      15 -74.121920  4.725912\n",
      "14        15          16      17 -74.094295  4.604168\n",
      "15        16          17      10 -74.111388  4.557321\n",
      "16        17          18      25 -74.124639  4.615869\n",
      "17        18          19      12 -74.124562  4.656403\n",
      "18        19          20      11 -74.049906  4.706188\n",
      "19        20          21      15 -74.121867  4.746625\n",
      "20        21          22      14 -74.024549  4.746517\n",
      "21        22          23      18 -74.086836  4.625426\n",
      "22        23          24      15 -74.116526  4.731407\n",
      "23        24          25      11 -74.126293  4.577490\n",
      "   LocationID  DepotID  Longitude  Latitude  Capacity\n",
      "0           1        1 -74.153536  4.743359        90\n",
      "  VehicleType  Capacity  Range\n",
      "0     Gas Car       130    170\n",
      "1     Gas Car       140    200\n",
      "2     Gas Car       120    180\n",
      "3     Gas Car       100     90\n",
      "4     Gas Car        70    100\n",
      "5     Gas Car        55    170\n",
      "6     Gas Car       110    150\n",
      "7     Gas Car       114    140\n"
     ]
    }
   ],
   "source": [
    "print(clients_df)\n",
    "print(depots_df)\n",
    "print(vehicles_df)\n",
    "capacidad_maxima = vehicles_df['Capacity'].max()\n",
    "\n",
    "vehicles_df['Capacity'] = capacidad_maxima"
   ]
  },
  {
   "cell_type": "code",
   "execution_count": 1084,
   "id": "571d09fa",
   "metadata": {},
   "outputs": [],
   "source": [
    "C=list(depots_df[\"DepotID\"])\n",
    "CAP=dict(zip(depots_df[\"DepotID\"],depots_df[\"Capacity\"]))"
   ]
  },
  {
   "cell_type": "code",
   "execution_count": 1085,
   "id": "4f3c2292",
   "metadata": {},
   "outputs": [
    {
     "name": "stdout",
     "output_type": "stream",
     "text": [
      "Conjunto C: [1]\n",
      "Capacidades CAP_i: {1: 90}\n"
     ]
    }
   ],
   "source": [
    "print(\"Conjunto C:\", C)\n",
    "print(\"Capacidades CAP_i:\", CAP)"
   ]
  },
  {
   "cell_type": "code",
   "execution_count": 1086,
   "id": "f6bb8653",
   "metadata": {},
   "outputs": [],
   "source": [
    "K=list(clients_df[\"ClientID\"])\n",
    "DEM=dict(zip(clients_df[\"ClientID\"],clients_df[\"Demand\"])) \n",
    "COORDENADAS_CLIENTES=dict(zip(clients_df[\"ClientID\"],zip(clients_df[\"Longitude\"],clients_df[\"Latitude\"])))"
   ]
  },
  {
   "cell_type": "code",
   "execution_count": 1087,
   "id": "5d4b91b7",
   "metadata": {},
   "outputs": [
    {
     "name": "stdout",
     "output_type": "stream",
     "text": [
      "Conjunto K: clientes [1, 2, 3, 4, 5, 6, 7, 8, 9, 10, 11, 12, 13, 14, 15, 16, 17, 18, 19, 20, 21, 22, 23, 24]\n",
      "Capacidades Demanda: {1: 13, 2: 15, 3: 12, 4: 15, 5: 20, 6: 17, 7: 17, 8: 20, 9: 20, 10: 15, 11: 17, 12: 12, 13: 21, 14: 15, 15: 17, 16: 10, 17: 25, 18: 12, 19: 11, 20: 15, 21: 14, 22: 18, 23: 15, 24: 11}\n",
      "Coordenadas clientes: {1: (-74.09893796560621, 4.59795431125545), 2: (-74.07557103763986, 4.687820646838871), 3: (-74.10708524062704, 4.70949446000624), 4: (-74.09727965657427, 4.605029068682624), 5: (-74.16464148202755, 4.648463876533332), 6: (-74.12083799988112, 4.662137416953968), 7: (-74.02213076607309, 4.697499030379109), 8: (-74.17207549744595, 4.649416884236942), 9: (-74.15615257246444, 4.606310650273935), 10: (-74.09041145358674, 4.557379705282216), 11: (-74.17802255204528, 4.591594072172954), 12: (-74.1015410917749, 4.7564172406324055), 13: (-74.09690889182339, 4.646217006050524), 14: (-74.1219200708342, 4.725912125314368), 15: (-74.0942948461378, 4.604168478560718), 16: (-74.11138839002187, 4.557320898243896), 17: (-74.12463941285208, 4.615869066082658), 18: (-74.12456164551857, 4.656402930181292), 19: (-74.04990580408855, 4.706188309535041), 20: (-74.121866801394, 4.746624762561149), 21: (-74.02454895778163, 4.746517184687941), 22: (-74.08683592702927, 4.625425626584072), 23: (-74.11652648751144, 4.731406773645735), 24: (-74.12629327283491, 4.577489966973782)}\n"
     ]
    }
   ],
   "source": [
    "print(\"Conjunto K: clientes\", K)\n",
    "print(\"Capacidades Demanda:\", DEM)\n",
    "print(\"Coordenadas clientes:\", COORDENADAS_CLIENTES)"
   ]
  },
  {
   "cell_type": "markdown",
   "id": "ac4a08fe",
   "metadata": {},
   "source": [
    "Distancia harvesiana"
   ]
  },
  {
   "cell_type": "code",
   "execution_count": 1088,
   "id": "7a62022d",
   "metadata": {},
   "outputs": [],
   "source": [
    "def dist_haversiana(lon1,lat1,lon2,lat2):\n",
    "  R=6371.0 #radio tierra\n",
    "  lon1,lat1,lon2,lat2=map(np.radians,[lon1,lat1,lon2,lat2])\n",
    "  dlon=lon2-lon1\n",
    "  dlat=lat2-lat1\n",
    "  a = np.sin(dlat / 2.0)**2 + np.cos(lat1) * np.cos(lat2) * np.sin(dlon / 2.0)**2\n",
    "  c = 2 * np.arcsin(np.sqrt(a))\n",
    "  return R * c"
   ]
  },
  {
   "cell_type": "code",
   "execution_count": 1089,
   "id": "ebd554b3",
   "metadata": {},
   "outputs": [],
   "source": [
    "DIST={}\n",
    "for i,depot in depots_df.iterrows():\n",
    "  for j,client in clients_df.iterrows():\n",
    "    di=depot[\"DepotID\"]\n",
    "    ci=client[\"ClientID\"]\n",
    "    distance=dist_haversiana(depot[\"Longitude\"],depot[\"Latitude\"],\n",
    "                             client[\"Longitude\"],client[\"Latitude\"]\n",
    "                             )\n",
    "    DIST[(di,ci)]=round(distance,2)"
   ]
  },
  {
   "cell_type": "code",
   "execution_count": 1090,
   "id": "b0b05415",
   "metadata": {},
   "outputs": [
    {
     "name": "stdout",
     "output_type": "stream",
     "text": [
      "La distancia entre el centro de distribucion 1.0 y el cliente 1.0 es de 17.26\n",
      "La distancia entre el centro de distribucion 1.0 y el cliente 2.0 es de 10.62\n",
      "La distancia entre el centro de distribucion 1.0 y el cliente 3.0 es de 6.38\n",
      "La distancia entre el centro de distribucion 1.0 y el cliente 4.0 es de 16.6\n",
      "La distancia entre el centro de distribucion 1.0 y el cliente 5.0 es de 10.62\n"
     ]
    }
   ],
   "source": [
    "for key, val in list(DIST.items())[:5]:\n",
    "  print(\"La distancia entre el centro de distribucion\", key[0], \"y el cliente\", key[1], \"es de\", val)"
   ]
  },
  {
   "cell_type": "code",
   "execution_count": 1091,
   "id": "214a99f3",
   "metadata": {},
   "outputs": [],
   "source": [
    "V=list(vehicles_df.index)\n",
    "Q = dict(zip(V, vehicles_df[\"Capacity\"]))\n",
    "\n",
    "\n",
    "R = dict(zip(V, vehicles_df[\"Range\"]))"
   ]
  },
  {
   "cell_type": "code",
   "execution_count": 1092,
   "id": "57ea14b9",
   "metadata": {},
   "outputs": [
    {
     "name": "stdout",
     "output_type": "stream",
     "text": [
      "Vehículos: [0, 1, 2, 3, 4, 5, 6, 7]\n",
      "Capacidades: {0: 140, 1: 140, 2: 140, 3: 140, 4: 140, 5: 140, 6: 140, 7: 140}\n",
      "Rangos: {0: 170, 1: 200, 2: 180, 3: 90, 4: 100, 5: 170, 6: 150, 7: 140}\n"
     ]
    }
   ],
   "source": [
    "print(\"Vehículos:\", V)\n",
    "print(\"Capacidades:\", Q)\n",
    "print(\"Rangos:\", R)"
   ]
  },
  {
   "cell_type": "code",
   "execution_count": 1093,
   "id": "0db31fca",
   "metadata": {},
   "outputs": [
    {
     "name": "stdout",
     "output_type": "stream",
     "text": [
      "vehiculo 0: Tipo=Gas Car, Capacidad=140, Rango=170\n",
      "vehiculo 1: Tipo=Gas Car, Capacidad=140, Rango=200\n",
      "vehiculo 2: Tipo=Gas Car, Capacidad=140, Rango=180\n",
      "vehiculo 3: Tipo=Gas Car, Capacidad=140, Rango=90\n",
      "vehiculo 4: Tipo=Gas Car, Capacidad=140, Rango=100\n",
      "vehiculo 5: Tipo=Gas Car, Capacidad=140, Rango=170\n",
      "vehiculo 6: Tipo=Gas Car, Capacidad=140, Rango=150\n",
      "vehiculo 7: Tipo=Gas Car, Capacidad=140, Rango=140\n"
     ]
    }
   ],
   "source": [
    "for v in V:\n",
    "    print(f\"vehiculo {v}: Tipo={vehicles_df['VehicleType'][v]}, Capacidad={Q[v]}, Rango={R[v]}\")"
   ]
  },
  {
   "cell_type": "markdown",
   "id": "1eaa131e",
   "metadata": {},
   "source": [
    "Implementar metodo metaheurístico: Algorimo genético "
   ]
  },
  {
   "cell_type": "markdown",
   "id": "0f555ee2",
   "metadata": {},
   "source": [
    "Parametros"
   ]
  },
  {
   "cell_type": "code",
   "execution_count": 1094,
   "id": "d104369e",
   "metadata": {},
   "outputs": [],
   "source": [
    "pupulation_size = 120\n",
    "max_generations = 200\n",
    "crossover_rate = 0.6\n",
    "mutation_rate = 0.4\n",
    "elitism_count = 4"
   ]
  },
  {
   "cell_type": "markdown",
   "id": "14e8168b",
   "metadata": {},
   "source": [
    "Inicialización de la población"
   ]
  },
  {
   "cell_type": "markdown",
   "id": "87df97f3",
   "metadata": {},
   "source": [
    "La población es el conjunto de individuos que representan posibles soluciones. En este caso un individuo representa una forma distinta de asignar clientes a vehículos, definir el orden de visita de esos clientes por vehículo y respetar la capacidad del vehículo."
   ]
  },
  {
   "cell_type": "code",
   "execution_count": 1095,
   "id": "6ab0d8ad",
   "metadata": {},
   "outputs": [
    {
     "name": "stdout",
     "output_type": "stream",
     "text": [
      "CAP [140, 140, 140, 140, 140, 140, 140, 140]\n",
      "DEM {1: 13, 2: 15, 3: 12, 4: 15, 5: 20, 6: 17, 7: 17, 8: 20, 9: 20, 10: 15, 11: 17, 12: 12, 13: 21, 14: 15, 15: 17, 16: 10, 17: 25, 18: 12, 19: 11, 20: 15, 21: 14, 22: 18, 23: 15, 24: 11}\n",
      "cap vehiculos\n",
      "Rango vehiculos:  [170, 200, 180, 90, 100, 170, 150, 140]\n",
      "Debug inicial:\n",
      "Ind 0: fitness total = 653167.5172262012, costo real = 653167.5172262012, penalización = 0\n",
      "Ind 1: fitness total = 559206.7470905855, costo real = 559206.7470905855, penalización = 0\n",
      "Ind 2: fitness total = 576928.5203160034, costo real = 576928.5203160034, penalización = 0\n",
      "Ind 3: fitness total = 587985.5748809212, costo real = 587985.5748809212, penalización = 0\n",
      "Ind 4: fitness total = 565620.3386160589, costo real = 565620.3386160589, penalización = 0\n"
     ]
    }
   ],
   "source": [
    "def repair_individual(individual, all_clients, capacities, demands):\n",
    "    # Aplanar rutas y contar visitas\n",
    "    flat = sum(individual, [])\n",
    "    count = Counter(flat)\n",
    "\n",
    "    # Detectar clientes faltantes\n",
    "    missing = [c for c in all_clients if count[c] == 0]\n",
    "\n",
    "    # Eliminar duplicados (mantener primera aparición)\n",
    "    seen = set()\n",
    "    cleaned_routes = []\n",
    "    for route in individual:\n",
    "        new_route = []\n",
    "        for c in route:\n",
    "            if c not in seen:\n",
    "                new_route.append(c)\n",
    "                seen.add(c)\n",
    "        if new_route:\n",
    "            cleaned_routes.append(new_route)\n",
    "\n",
    "    # Añadir clientes faltantes intentando respetar capacidades\n",
    "    for client in missing:\n",
    "        added = False\n",
    "        for idx, route in enumerate(cleaned_routes):\n",
    "            cap = capacities[min(idx, len(capacities) - 1)]\n",
    "            load = sum(demands[c] for c in route)\n",
    "            if load + demands[client] <= cap:\n",
    "                route.append(client)\n",
    "                added = True\n",
    "                break\n",
    "        if not added:\n",
    "            cleaned_routes.append([client])\n",
    "\n",
    "    return [r for r in cleaned_routes if r]\n",
    "\n",
    "\n",
    "\n",
    "def inicializar_poblacion(poblacion_size, clients, cap_vehiculos, dem_clients):\n",
    "    poblacion = []\n",
    "\n",
    "    for _ in range(poblacion_size):\n",
    "        clientes_barajados = clients.copy()\n",
    "        random.shuffle(clientes_barajados)\n",
    "\n",
    "        individuo = [[] for _ in cap_vehiculos]  # una ruta por cada vehículo\n",
    "        cargas = [0 for _ in cap_vehiculos]\n",
    "\n",
    "        for cliente in clientes_barajados:\n",
    "            demanda = dem_clients[cliente]\n",
    "            posibles = []\n",
    "\n",
    "            # Buscar rutas con suficiente capacidad restante\n",
    "            for idx, capacidad in enumerate(cap_vehiculos):\n",
    "                if cargas[idx] + demanda <= capacidad:\n",
    "                    posibles.append(idx)\n",
    "\n",
    "            if posibles:\n",
    "                # Asignar a una ruta aleatoria con capacidad disponible\n",
    "                elegido = random.choice(posibles)\n",
    "                individuo[elegido].append(cliente)\n",
    "                cargas[elegido] += demanda\n",
    "            else:\n",
    "                # Si no hay ninguna ruta válida, crear una nueva (si está permitido)\n",
    "                # Suponemos que se puede añadir una nueva ruta si faltan clientes\n",
    "                individuo.append([cliente])\n",
    "                cargas.append(demanda)\n",
    "                cap_vehiculos.append(max(cap_vehiculos))  # o una capacidad estándar\n",
    "\n",
    "        # Eliminar rutas vacías\n",
    "        individuo = [ruta for ruta in individuo if ruta]\n",
    "        poblacion.append(individuo)\n",
    "\n",
    "    return poblacion\n",
    "\n",
    "\n",
    "def fitness(individual, distancias, deposito_id, coords_clientes, cap_vehiculos, dem_clients, clients, rango_vehiculos):\n",
    "    costo_total = 0\n",
    "    penalizacion = 0\n",
    "    Pf = 123.12  # COP/km (combustible)\n",
    "    Ft = 823     # COP/km (flete)\n",
    "    Cm = 700     # COP/km (mantenimiento)\n",
    "\n",
    "    # Validar que cada cliente es visitado exactamente una vez\n",
    "    # y que no se repiten de lo contrario se penaliza\n",
    "    clientes_visitados = sum(individual, [])  # aplanar rutas\n",
    "    conteo = Counter(clientes_visitados)\n",
    "\n",
    "    for c in clients:\n",
    "        if conteo[c] != 1: \n",
    "            penalizacion += 1000 * abs(conteo[c] - 1)\n",
    "\n",
    "    # Recorrer cada ruta (vehículo)\n",
    "    for idx, ruta in enumerate(individual):\n",
    "        if not ruta:\n",
    "            continue\n",
    "\n",
    "        # Restricción de capacidad del vehículo\n",
    "        carga = sum(dem_clients[c] for c in ruta)\n",
    "        if carga > cap_vehiculos[min(idx, len(cap_vehiculos)-1)]:\n",
    "            penalizacion += 1000 * (carga - cap_vehiculos[min(idx, len(cap_vehiculos)-1)])\n",
    "\n",
    "        # Calcular la distancia total de esta ruta\n",
    "        distancia_total = 0\n",
    "        distancia_total += distancias[(deposito_id, ruta[0])]  \n",
    "\n",
    "        for i in range(len(ruta) - 1):\n",
    "            c1, c2 = ruta[i], ruta[i+1]\n",
    "            lon1, lat1 = coords_clientes[c1]\n",
    "            lon2, lat2 = coords_clientes[c2]\n",
    "            distancia_total += dist_haversiana(lon1, lat1, lon2, lat2)\n",
    "\n",
    "        distancia_total += distancias[(deposito_id, ruta[-1])] \n",
    "\n",
    "        costo_total += distancia_total\n",
    "\n",
    "        # Restriccion para que no se exceda el rango \n",
    "        # permitido\n",
    "        if distancia_total > rango_vehiculos[min(idx, len(rango_vehiculos)-1)]:\n",
    "            penalizacion += 1000 * (distancia_total - rango_vehiculos[min(idx, len(rango_vehiculos)-1)])\n",
    "    \n",
    "    costo_total *= (Pf + Ft + Cm)  \n",
    "\n",
    "\n",
    "    return costo_total + penalizacion, costo_total, penalizacion\n",
    "\n",
    "\n",
    "def seleccion_torneo(population, fitness_scores, k=2):\n",
    "    selected = []\n",
    "    for _ in range(len(population)):\n",
    "        indices = random.sample(range(len(population)), k)\n",
    "        mejor_idx = min(indices, key=lambda i: fitness_scores[i])\n",
    "        selected.append(copy.deepcopy(population[mejor_idx]))\n",
    "    return selected\n",
    "\n",
    "def crossover_rutas(p1, p2):\n",
    "    hijo1, hijo2 = [], []\n",
    "\n",
    "    split1 = random.randint(0, len(p1)-1)\n",
    "    split2 = random.randint(0, len(p2)-1)\n",
    "\n",
    "    r1 = p1[:split1]\n",
    "    r2 = p2[split2:]\n",
    "\n",
    "    flat_r1 = set(sum(r1, []))\n",
    "    flat_r2 = set(sum(r2, []))\n",
    "\n",
    "    restantes1 = [c for ruta in p2 for c in ruta if c not in flat_r1]\n",
    "    restantes2 = [c for ruta in p1 for c in ruta if c not in flat_r2]\n",
    "\n",
    "    hijo1 = r1 + [restantes1]\n",
    "    hijo2 = r2 + [restantes2]\n",
    "\n",
    "    return hijo1, hijo2\n",
    "\n",
    "def mutar_individuo(individual):\n",
    "    rutas_validas = [ruta for ruta in individual if len(ruta) >= 1]\n",
    "    if len(rutas_validas) < 2:\n",
    "        return\n",
    "\n",
    "    r1, r2 = random.sample(rutas_validas, 2)\n",
    "    i1 = random.randint(0, len(r1) - 1)\n",
    "    i2 = random.randint(0, len(r2) - 1)\n",
    "    r1[i1], r2[i2] = r2[i2], r1[i1]\n",
    "\n",
    "\n",
    "\n",
    "# K clientes \n",
    "# Q capacidades de los vehiculos\n",
    "# DEM demanda de los clientes\n",
    "cap_vehiculos_transform = [Q[v] for v in V] \n",
    "population = inicializar_poblacion(pupulation_size, K, cap_vehiculos_transform, DEM)\n",
    "\n",
    "\n",
    "# print(\"K\",K)\n",
    "print(\"CAP\",cap_vehiculos_transform)\n",
    "print(\"DEM\",DEM)\n",
    "print(\"cap vehiculos\",)\n",
    "\n",
    "\n",
    "DIST_correctos_ids = {(int(i), int(j)): float(d) for (i, j), d in DIST.items()}\n",
    "rango_vehiculos = [R[v] for v in V]  # igual que cap_vehiculos\n",
    "print(\"Rango vehiculos: \", rango_vehiculos)\n",
    "\n",
    "print(\"Debug inicial:\")\n",
    "for i, ind in enumerate(population[:5]):\n",
    "    fit, costo, penal = fitness(ind, DIST_correctos_ids, 1, COORDENADAS_CLIENTES, cap_vehiculos_transform, DEM, clients_df[\"ClientID\"].tolist(), rango_vehiculos)\n",
    "    print(f\"Ind {i}: fitness total = {fit}, costo real = {costo}, penalización = {penal}\")\n",
    "\n",
    "# Evaluar la población inicial\n",
    "fitness_scores = [\n",
    "    fitness(ind, DIST_correctos_ids, 1, COORDENADAS_CLIENTES, cap_vehiculos_transform, DEM, clients_df[\"ClientID\"].tolist(), rango_vehiculos)\n",
    "    for ind in population\n",
    "]\n",
    "\n",
    "# print(\"Poblacion inicial: \", population)\n",
    "# print(\"Fitness scores: \", fitness_scores)\n",
    "\n",
    "mejores_por_generacion = []\n",
    "\n",
    "for generation in range(max_generations):\n",
    "    # Selección\n",
    "    mating_pool = seleccion_torneo(population, fitness_scores)\n",
    "\n",
    "    # Cruce\n",
    "    offspring = []\n",
    "    for _ in range((pupulation_size - elitism_count) // 2):\n",
    "        p1, p2 = random.sample(mating_pool, 2)\n",
    "        if random.random() < crossover_rate:\n",
    "            h1, h2 = crossover_rutas(p1, p2)\n",
    "        else:\n",
    "            h1, h2 = p1.copy(), p2.copy()\n",
    "        h1_repaired = repair_individual(h1, K, cap_vehiculos_transform, DEM)\n",
    "        h2_repaired = repair_individual(h2, K, cap_vehiculos_transform, DEM)\n",
    "        offspring.extend([h1_repaired, h2_repaired])\n",
    "\n",
    "    # Mutación\n",
    "    for idx in range(len(offspring)):\n",
    "        if random.random() < mutation_rate:\n",
    "            mutar_individuo(offspring[idx])\n",
    "            # Repara el individuo después de la mutación\n",
    "            offspring[idx] = repair_individual(offspring[idx], K, cap_vehiculos_transform, DEM)\n",
    "\n",
    "    # Evaluar descendencia\n",
    "    # Evaluar descendencia\n",
    "    offspring_fitness = [\n",
    "        fitness(ind, DIST_correctos_ids, 1, COORDENADAS_CLIENTES, cap_vehiculos_transform, DEM, clients_df[\"ClientID\"].tolist(), rango_vehiculos)\n",
    "        for ind in offspring\n",
    "    ]\n",
    "\n",
    "    # Elitismo sobre población actual\n",
    "    elite_indices = sorted(range(len(fitness_scores)), key=lambda i: fitness_scores[i])[:elitism_count]\n",
    "    elites = [copy.deepcopy(population[i]) for i in elite_indices]\n",
    "    elite_fitness = [fitness_scores[i] for i in elite_indices]\n",
    "\n",
    "    # Nueva población y sus fitness\n",
    "    population = elites + offspring[:pupulation_size - elitism_count]\n",
    "    fitness_scores = elite_fitness + offspring_fitness[:pupulation_size - elitism_count]\n",
    "    mejores_por_generacion.append(min(fitness_scores))\n",
    "\n",
    "    \n",
    "\n",
    "    # (Opcional) Registrar mejor fitness por generación"
   ]
  },
  {
   "cell_type": "code",
   "execution_count": 1096,
   "id": "459707f2",
   "metadata": {},
   "outputs": [
    {
     "name": "stdout",
     "output_type": "stream",
     "text": [
      "\n",
      " Mejor solución encontrada:\n",
      "Costo total: 251079.02\n",
      "Rutas asignadas:\n",
      "  Vehículo 1: [6, 2, 3, 23, 14, 19, 7, 21, 12, 20]\n",
      "  Vehículo 2: [5, 8, 11, 9, 17, 24, 1, 18]\n",
      "  Vehículo 3: [13, 15, 10, 16, 4, 22]\n"
     ]
    }
   ],
   "source": [
    "# Encontrar el mejor individuo después de todas las generaciones\n",
    "mejor_idx = fitness_scores.index(min(fitness_scores))\n",
    "mejor_individuo = population[mejor_idx]\n",
    "mejor_costo = fitness_scores[mejor_idx]\n",
    "\n",
    "print(\"\\n Mejor solución encontrada:\")\n",
    "print(\"Costo total:\", round(mejor_costo[1], 2))\n",
    "print(\"Rutas asignadas:\")\n",
    "for i, ruta in enumerate(mejor_individuo):\n",
    "    print(f\"  Vehículo {i+1}: {ruta}\")"
   ]
  },
  {
   "cell_type": "code",
   "execution_count": 1097,
   "id": "61f1fcc0",
   "metadata": {},
   "outputs": [],
   "source": [
    "import folium\n",
    "\n",
    "# Encontrar el mejor individuo\n",
    "mejor_idx = fitness_scores.index(min(fitness_scores))\n",
    "mejor_individuo = population[mejor_idx]\n",
    "\n",
    "# Crear el mapa centrado en Bogotá\n",
    "mapa = folium.Map(location=[4.60971, -74.08175], zoom_start=12)\n",
    "\n",
    "# Marcar el depósito (usando solo uno para este caso)\n",
    "for _, depot in depots_df.iterrows():\n",
    "    folium.Marker(\n",
    "        location=[depot['Latitude'], depot['Longitude']], \n",
    "        popup=f\"CD {depot['DepotID']}\", \n",
    "        icon=folium.Icon(color='blue')\n",
    "    ).add_to(mapa)\n",
    "\n",
    "# Marcar todos los clientes\n",
    "for _, client in clients_df.iterrows():\n",
    "    folium.Marker(\n",
    "        location=[client['Latitude'], client['Longitude']], \n",
    "        popup=f\"Cliente {client['ClientID']}\",\n",
    "        icon=folium.Icon(color='green')\n",
    "    ).add_to(mapa)\n",
    "\n",
    "# Dibujar rutas del mejor individuo\n",
    "for ruta in mejor_individuo:\n",
    "    if not ruta:\n",
    "        continue\n",
    "    ruta_coords = []\n",
    "\n",
    "    # Punto de inicio (depósito)\n",
    "    cd_lat = depots_df.iloc[0]['Latitude']\n",
    "    cd_lon = depots_df.iloc[0]['Longitude']\n",
    "    ruta_coords.append([cd_lat, cd_lon])\n",
    "\n",
    "    # Coordenadas de clientes en la ruta\n",
    "    for cliente_id in ruta:\n",
    "        client_lat, client_lon = COORDENADAS_CLIENTES[cliente_id][1], COORDENADAS_CLIENTES[cliente_id][0]\n",
    "        ruta_coords.append([client_lat, client_lon])\n",
    "\n",
    "    # Retorno al depósito\n",
    "    ruta_coords.append([cd_lat, cd_lon])\n",
    "\n",
    "    folium.PolyLine(ruta_coords, color='red', weight=2.5, opacity=1).add_to(mapa)\n",
    "\n",
    "# Guardar el resultado\n",
    "mapa.save(\"mejor_ruta.html\")\n"
   ]
  },
  {
   "cell_type": "code",
   "execution_count": 1098,
   "id": "46db95fa",
   "metadata": {},
   "outputs": [],
   "source": [
    "import folium\n",
    "\n",
    "mapa = folium.Map(location=[4.6, -74.1], zoom_start=12)\n",
    "colors = [\"red\", \"blue\", \"green\", \"orange\", \"purple\", \"darkred\", \"cadetblue\", \"gray\"]\n",
    "\n",
    "for i, ruta in enumerate(mejor_individuo):\n",
    "    coords = [[COORDENADAS_CLIENTES[c][1], COORDENADAS_CLIENTES[c][0]] for c in ruta]\n",
    "    coords.insert(0, [depots_df.iloc[0][\"Latitude\"], depots_df.iloc[0][\"Longitude\"]])  # desde depósito\n",
    "    coords.append([depots_df.iloc[0][\"Latitude\"], depots_df.iloc[0][\"Longitude\"]])     # regreso\n",
    "\n",
    "    folium.PolyLine(coords, color=colors[i % len(colors)], weight=3).add_to(mapa)\n",
    "\n",
    "mapa.save(\"mejor_rutaOtraAlternativa.html\")\n"
   ]
  },
  {
   "cell_type": "code",
   "execution_count": 1099,
   "id": "d49e4b96",
   "metadata": {},
   "outputs": [
    {
     "data": {
      "image/png": "[encoded data removed]",
      "text/plain": [
       "<Figure size 640x480 with 1 Axes>"
      ]
     },
     "metadata": {},
     "output_type": "display_data"
    }
   ],
   "source": [
    "\n",
    "import matplotlib.pyplot as plt\n",
    "\n",
    "solo_costos = [t[1] for t in mejores_por_generacion]  # o usa t[1] si quieres el costo_real\n",
    "\n",
    "plt.plot(solo_costos, color=\"blue\")\n",
    "plt.title(\"Convergencia del algoritmo genético\")\n",
    "plt.xlabel(\"Generación\")\n",
    "plt.ylabel(\"Mejor Fitness\")\n",
    "plt.grid(True)\n",
    "plt.suptitle(f\"Costo AG: {mejor_costo[1]:.2f} |   Costo Pyomo: 52675.84\", fontsize=10, color=\"green\")\n",
    "plt.savefig(\"convergencia_AG_Proyecto_Prueba.png\")\n",
    "plt.show()\n"
   ]
  },
  {
   "cell_type": "markdown",
   "id": "9929b56d",
   "metadata": {},
   "source": [
    "Evaluación"
   ]
  },
  {
   "cell_type": "markdown",
   "id": "87517c7b",
   "metadata": {},
   "source": [
    "Selección"
   ]
  },
  {
   "cell_type": "markdown",
   "id": "59e3c5f2",
   "metadata": {},
   "source": [
    "Cruce(recombinación)"
   ]
  },
  {
   "cell_type": "markdown",
   "id": "67f229c9",
   "metadata": {},
   "source": [
    "Mutación"
   ]
  },
  {
   "cell_type": "markdown",
   "id": "5c898aad",
   "metadata": {},
   "source": [
    "Reemplazo"
   ]
  },
  {
   "cell_type": "markdown",
   "id": "f3b6a422",
   "metadata": {},
   "source": [
    "Iteración"
   ]
  }
 ],
 "metadata": {
  "kernelspec": {
   "display_name": "pyomo_env",
   "language": "python",
   "name": "python3"
  },
  "language_info": {
   "codemirror_mode": {
    "name": "ipython",
    "version": 3
   },
   "file_extension": ".py",
   "mimetype": "text/x-python",
   "name": "python",
   "nbconvert_exporter": "python",
   "pygments_lexer": "ipython3",
   "version": "3.9.21"
  }
 },
 "nbformat": 4,
 "nbformat_minor": 5
}
