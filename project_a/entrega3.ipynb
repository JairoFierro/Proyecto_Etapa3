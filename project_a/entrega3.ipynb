{
 "cells": [
  {
   "cell_type": "markdown",
   "id": "cca9763e",
   "metadata": {},
   "source": [
    "Imports"
   ]
  },
  {
   "cell_type": "code",
   "execution_count": 1,
   "id": "8fb50a82",
   "metadata": {},
   "outputs": [],
   "source": [
    "import pandas as pd\n",
    "import numpy as np\n",
    "from pyomo.environ import * \n",
    "from pyomo.opt import SolverFactory\n",
    "import folium\n",
    "import csv"
   ]
  },
  {
   "cell_type": "markdown",
   "id": "45a98cba",
   "metadata": {},
   "source": [
    "Cargar archivos requerido por la instancia"
   ]
  },
  {
   "cell_type": "code",
   "execution_count": 2,
   "id": "0880d7e6",
   "metadata": {},
   "outputs": [],
   "source": [
    "clients_df = pd.read_csv(\"Proyecto_Caso_Base/clients.csv\")\n",
    "depots_df = pd.read_csv(\"Proyecto_Caso_Base/depots.csv\")\n",
    "vehicles_df = pd.read_csv(\"Proyecto_Caso_Base/vehicles.csv\")\n"
   ]
  },
  {
   "cell_type": "code",
   "execution_count": 3,
   "id": "a07c7cf7",
   "metadata": {},
   "outputs": [
    {
     "name": "stdout",
     "output_type": "stream",
     "text": [
      "   ClientID  LocationID  Demand  Longitude  Latitude\n",
      "0         1           2      13 -74.098938  4.597954\n",
      "1         2           3      15 -74.075571  4.687821\n",
      "2         3           4      12 -74.107085  4.709494\n",
      "3         4           5      15 -74.097280  4.605029\n",
      "4         5           6      20 -74.164641  4.648464\n",
      "   LocationID  DepotID  Longitude  Latitude  Capacity\n",
      "0           1        1 -74.153536  4.743359        90\n",
      "  VehicleType  Capacity  Range\n",
      "0     Gas Car       130    170\n",
      "1     Gas Car       140    200\n",
      "2     Gas Car       120    180\n",
      "3     Gas Car       100     90\n",
      "4     Gas Car        70    100\n"
     ]
    }
   ],
   "source": [
    "print(clients_df.head())\n",
    "print(depots_df.head())\n",
    "print(vehicles_df.head())"
   ]
  },
  {
   "cell_type": "code",
   "execution_count": 4,
   "id": "571d09fa",
   "metadata": {},
   "outputs": [],
   "source": [
    "C=list(depots_df[\"DepotID\"])\n",
    "CAP=dict(zip(depots_df[\"DepotID\"],depots_df[\"Capacity\"]))"
   ]
  },
  {
   "cell_type": "code",
   "execution_count": 5,
   "id": "4f3c2292",
   "metadata": {},
   "outputs": [
    {
     "name": "stdout",
     "output_type": "stream",
     "text": [
      "Conjunto C: [1]\n",
      "Capacidades CAP_i: {1: 90}\n"
     ]
    }
   ],
   "source": [
    "print(\"Conjunto C:\", C)\n",
    "print(\"Capacidades CAP_i:\", CAP)"
   ]
  },
  {
   "cell_type": "code",
   "execution_count": 6,
   "id": "f6bb8653",
   "metadata": {},
   "outputs": [],
   "source": [
    "K=list(clients_df[\"ClientID\"])\n",
    "DEM=dict(zip(clients_df[\"ClientID\"],clients_df[\"Demand\"])) "
   ]
  },
  {
   "cell_type": "code",
   "execution_count": 7,
   "id": "5d4b91b7",
   "metadata": {},
   "outputs": [
    {
     "name": "stdout",
     "output_type": "stream",
     "text": [
      "Conjunto K: clientes [1, 2, 3, 4, 5, 6, 7, 8, 9, 10, 11, 12, 13, 14, 15, 16, 17, 18, 19, 20, 21, 22, 23, 24]\n",
      "Capacidades Demanda: {1: 13, 2: 15, 3: 12, 4: 15, 5: 20, 6: 17, 7: 17, 8: 20, 9: 20, 10: 15, 11: 17, 12: 12, 13: 21, 14: 15, 15: 17, 16: 10, 17: 25, 18: 12, 19: 11, 20: 15, 21: 14, 22: 18, 23: 15, 24: 11}\n"
     ]
    }
   ],
   "source": [
    "print(\"Conjunto K: clientes\", K)\n",
    "print(\"Capacidades Demanda:\", DEM)"
   ]
  },
  {
   "cell_type": "markdown",
   "id": "ac4a08fe",
   "metadata": {},
   "source": [
    "Distancia harvesiana"
   ]
  },
  {
   "cell_type": "code",
   "execution_count": 8,
   "id": "7a62022d",
   "metadata": {},
   "outputs": [],
   "source": [
    "def dist_haversiana(lon1,lat1,lon2,lat2):\n",
    "  R=6371.0 #radio tierra\n",
    "  lon1,lat1,lon2,lat2=map(np.radians,[lon1,lat1,lon2,lat2])\n",
    "  dlon=lon2-lon1\n",
    "  dlat=lat2-lat1\n",
    "  a = np.sin(dlat / 2.0)**2 + np.cos(lat1) * np.cos(lat2) * np.sin(dlon / 2.0)**2\n",
    "  c = 2 * np.arcsin(np.sqrt(a))\n",
    "  return R * c"
   ]
  },
  {
   "cell_type": "code",
   "execution_count": 9,
   "id": "ebd554b3",
   "metadata": {},
   "outputs": [],
   "source": [
    "DIST={}\n",
    "for i,depot in depots_df.iterrows():\n",
    "  for j,client in clients_df.iterrows():\n",
    "    di=depot[\"DepotID\"]\n",
    "    ci=client[\"ClientID\"]\n",
    "    distance=dist_haversiana(depot[\"Longitude\"],depot[\"Latitude\"],\n",
    "                             client[\"Longitude\"],client[\"Latitude\"]\n",
    "                             )\n",
    "    DIST[(di,ci)]=round(distance,2)"
   ]
  },
  {
   "cell_type": "code",
   "execution_count": 10,
   "id": "b0b05415",
   "metadata": {},
   "outputs": [
    {
     "name": "stdout",
     "output_type": "stream",
     "text": [
      "La distancia entre el centro de distribucion 1.0 y el cliente 1.0 es de 17.26\n",
      "La distancia entre el centro de distribucion 1.0 y el cliente 2.0 es de 10.62\n",
      "La distancia entre el centro de distribucion 1.0 y el cliente 3.0 es de 6.38\n",
      "La distancia entre el centro de distribucion 1.0 y el cliente 4.0 es de 16.6\n",
      "La distancia entre el centro de distribucion 1.0 y el cliente 5.0 es de 10.62\n"
     ]
    }
   ],
   "source": [
    "for key, val in list(DIST.items())[:5]:\n",
    "  print(\"La distancia entre el centro de distribucion\", key[0], \"y el cliente\", key[1], \"es de\", val)"
   ]
  },
  {
   "cell_type": "code",
   "execution_count": 11,
   "id": "214a99f3",
   "metadata": {},
   "outputs": [],
   "source": [
    "V=list(vehicles_df.index)\n",
    "Q = dict(zip(V, vehicles_df[\"Capacity\"]))\n",
    "\n",
    "\n",
    "R = dict(zip(V, vehicles_df[\"Range\"]))"
   ]
  },
  {
   "cell_type": "code",
   "execution_count": 12,
   "id": "57ea14b9",
   "metadata": {},
   "outputs": [
    {
     "name": "stdout",
     "output_type": "stream",
     "text": [
      "Vehículos: [0, 1, 2, 3, 4, 5, 6, 7]\n",
      "Capacidades: {0: 130, 1: 140, 2: 120, 3: 100, 4: 70, 5: 55, 6: 110, 7: 114}\n",
      "Rangos: {0: 170, 1: 200, 2: 180, 3: 90, 4: 100, 5: 170, 6: 150, 7: 140}\n"
     ]
    }
   ],
   "source": [
    "print(\"Vehículos:\", V)\n",
    "print(\"Capacidades:\", Q)\n",
    "print(\"Rangos:\", R)"
   ]
  },
  {
   "cell_type": "code",
   "execution_count": 13,
   "id": "0db31fca",
   "metadata": {},
   "outputs": [
    {
     "name": "stdout",
     "output_type": "stream",
     "text": [
      "vehiculo 0: Tipo=Gas Car, Capacidad=130, Rango=170\n",
      "vehiculo 1: Tipo=Gas Car, Capacidad=140, Rango=200\n",
      "vehiculo 2: Tipo=Gas Car, Capacidad=120, Rango=180\n",
      "vehiculo 3: Tipo=Gas Car, Capacidad=100, Rango=90\n",
      "vehiculo 4: Tipo=Gas Car, Capacidad=70, Rango=100\n",
      "vehiculo 5: Tipo=Gas Car, Capacidad=55, Rango=170\n",
      "vehiculo 6: Tipo=Gas Car, Capacidad=110, Rango=150\n",
      "vehiculo 7: Tipo=Gas Car, Capacidad=114, Rango=140\n"
     ]
    }
   ],
   "source": [
    "for v in V:\n",
    "    print(f\"vehiculo {v}: Tipo={vehicles_df['VehicleType'][v]}, Capacidad={Q[v]}, Rango={R[v]}\")"
   ]
  }
 ],
 "metadata": {
  "kernelspec": {
   "display_name": "pyomo_env",
   "language": "python",
   "name": "python3"
  },
  "language_info": {
   "codemirror_mode": {
    "name": "ipython",
    "version": 3
   },
   "file_extension": ".py",
   "mimetype": "text/x-python",
   "name": "python",
   "nbconvert_exporter": "python",
   "pygments_lexer": "ipython3",
   "version": "3.9.21"
  }
 },
 "nbformat": 4,
 "nbformat_minor": 5
}
