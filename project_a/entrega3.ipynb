{
 "cells": [
  {
   "cell_type": "markdown",
   "id": "cca9763e",
   "metadata": {},
   "source": [
    "Imports"
   ]
  },
  {
   "cell_type": "code",
   "execution_count": 1,
   "id": "8fb50a82",
   "metadata": {},
   "outputs": [],
   "source": [
    "import pandas as pd\n",
    "import numpy as np\n",
    "from pyomo.environ import * \n",
    "from pyomo.opt import SolverFactory\n",
    "import folium\n",
    "import csv"
   ]
  },
  {
   "cell_type": "markdown",
   "id": "45a98cba",
   "metadata": {},
   "source": [
    "Cargar archivos requerido por la instancia"
   ]
  },
  {
   "cell_type": "code",
   "execution_count": null,
   "id": "0880d7e6",
   "metadata": {},
   "outputs": [],
   "source": [
    "clients_df = pd.read_csv(\"Proyecto_Caso_Base/clients.csv\")\n",
    "depots_df = pd.read_csv(\"Proyecto_Caso_Base/depots.csv\")\n",
    "vehicles_df = pd.read_csv(\"Proyecto_Caso_Base/vehicles.csv\")\n"
   ]
  }
 ],
 "metadata": {
  "kernelspec": {
   "display_name": "pyomo_env",
   "language": "python",
   "name": "python3"
  },
  "language_info": {
   "codemirror_mode": {
    "name": "ipython",
    "version": 3
   },
   "file_extension": ".py",
   "mimetype": "text/x-python",
   "name": "python",
   "nbconvert_exporter": "python",
   "pygments_lexer": "ipython3",
   "version": "3.9.21"
  }
 },
 "nbformat": 4,
 "nbformat_minor": 5
}
