{
 "cells": [
  {
   "cell_type": "markdown",
   "id": "cca9763e",
   "metadata": {},
   "source": [
    "Imports"
   ]
  },
  {
   "cell_type": "code",
   "execution_count": 106,
   "id": "8fb50a82",
   "metadata": {},
   "outputs": [],
   "source": [
    "import pandas as pd\n",
    "import numpy as np\n",
    "from pyomo.environ import * \n",
    "from pyomo.opt import SolverFactory\n",
    "import folium\n",
    "import csv\n",
    "import random  \n",
    "import copy"
   ]
  },
  {
   "cell_type": "markdown",
   "id": "45a98cba",
   "metadata": {},
   "source": [
    "Cargar archivos requerido por la instancia"
   ]
  },
  {
   "cell_type": "code",
   "execution_count": 107,
   "id": "0880d7e6",
   "metadata": {},
   "outputs": [],
   "source": [
    "clients_df = pd.read_csv(\"Proyecto_Caso_Base/clients.csv\")\n",
    "depots_df = pd.read_csv(\"Proyecto_Caso_Base/depots.csv\")\n",
    "vehicles_df = pd.read_csv(\"Proyecto_Caso_Base/vehicles.csv\")\n"
   ]
  },
  {
   "cell_type": "code",
   "execution_count": 108,
   "id": "a07c7cf7",
   "metadata": {},
   "outputs": [
    {
     "name": "stdout",
     "output_type": "stream",
     "text": [
      "   ClientID  LocationID  Demand  Longitude  Latitude\n",
      "0         1           2      13 -74.098938  4.597954\n",
      "1         2           3      15 -74.075571  4.687821\n",
      "2         3           4      12 -74.107085  4.709494\n",
      "3         4           5      15 -74.097280  4.605029\n",
      "4         5           6      20 -74.164641  4.648464\n",
      "   LocationID  DepotID  Longitude  Latitude  Capacity\n",
      "0           1        1 -74.153536  4.743359        90\n",
      "  VehicleType  Capacity  Range\n",
      "0     Gas Car       130    170\n",
      "1     Gas Car       140    200\n",
      "2     Gas Car       120    180\n",
      "3     Gas Car       100     90\n",
      "4     Gas Car        70    100\n"
     ]
    }
   ],
   "source": [
    "print(clients_df.head())\n",
    "print(depots_df.head())\n",
    "print(vehicles_df.head())"
   ]
  },
  {
   "cell_type": "code",
   "execution_count": 109,
   "id": "571d09fa",
   "metadata": {},
   "outputs": [],
   "source": [
    "C=list(depots_df[\"DepotID\"])\n",
    "CAP=dict(zip(depots_df[\"DepotID\"],depots_df[\"Capacity\"]))"
   ]
  },
  {
   "cell_type": "code",
   "execution_count": 110,
   "id": "4f3c2292",
   "metadata": {},
   "outputs": [
    {
     "name": "stdout",
     "output_type": "stream",
     "text": [
      "Conjunto C: [1]\n",
      "Capacidades CAP_i: {1: 90}\n"
     ]
    }
   ],
   "source": [
    "print(\"Conjunto C:\", C)\n",
    "print(\"Capacidades CAP_i:\", CAP)"
   ]
  },
  {
   "cell_type": "code",
   "execution_count": 111,
   "id": "f6bb8653",
   "metadata": {},
   "outputs": [],
   "source": [
    "K=list(clients_df[\"ClientID\"])\n",
    "DEM=dict(zip(clients_df[\"ClientID\"],clients_df[\"Demand\"])) \n",
    "COORDENADAS_CLIENTES=dict(zip(clients_df[\"ClientID\"],zip(clients_df[\"Longitude\"],clients_df[\"Latitude\"])))"
   ]
  },
  {
   "cell_type": "code",
   "execution_count": 112,
   "id": "5d4b91b7",
   "metadata": {},
   "outputs": [
    {
     "name": "stdout",
     "output_type": "stream",
     "text": [
      "Conjunto K: clientes [1, 2, 3, 4, 5, 6, 7, 8, 9, 10, 11, 12, 13, 14, 15, 16, 17, 18, 19, 20, 21, 22, 23, 24]\n",
      "Capacidades Demanda: {1: 13, 2: 15, 3: 12, 4: 15, 5: 20, 6: 17, 7: 17, 8: 20, 9: 20, 10: 15, 11: 17, 12: 12, 13: 21, 14: 15, 15: 17, 16: 10, 17: 25, 18: 12, 19: 11, 20: 15, 21: 14, 22: 18, 23: 15, 24: 11}\n",
      "Coordenadas clientes: {1: (-74.09893796560621, 4.59795431125545), 2: (-74.07557103763986, 4.687820646838871), 3: (-74.10708524062704, 4.70949446000624), 4: (-74.09727965657427, 4.605029068682624), 5: (-74.16464148202755, 4.648463876533332), 6: (-74.12083799988112, 4.662137416953968), 7: (-74.02213076607309, 4.697499030379109), 8: (-74.17207549744595, 4.649416884236942), 9: (-74.15615257246444, 4.606310650273935), 10: (-74.09041145358674, 4.557379705282216), 11: (-74.17802255204528, 4.591594072172954), 12: (-74.1015410917749, 4.7564172406324055), 13: (-74.09690889182339, 4.646217006050524), 14: (-74.1219200708342, 4.725912125314368), 15: (-74.0942948461378, 4.604168478560718), 16: (-74.11138839002187, 4.557320898243896), 17: (-74.12463941285208, 4.615869066082658), 18: (-74.12456164551857, 4.656402930181292), 19: (-74.04990580408855, 4.706188309535041), 20: (-74.121866801394, 4.746624762561149), 21: (-74.02454895778163, 4.746517184687941), 22: (-74.08683592702927, 4.625425626584072), 23: (-74.11652648751144, 4.731406773645735), 24: (-74.12629327283491, 4.577489966973782)}\n"
     ]
    }
   ],
   "source": [
    "print(\"Conjunto K: clientes\", K)\n",
    "print(\"Capacidades Demanda:\", DEM)\n",
    "print(\"Coordenadas clientes:\", COORDENADAS_CLIENTES)"
   ]
  },
  {
   "cell_type": "markdown",
   "id": "ac4a08fe",
   "metadata": {},
   "source": [
    "Distancia harvesiana"
   ]
  },
  {
   "cell_type": "code",
   "execution_count": 113,
   "id": "7a62022d",
   "metadata": {},
   "outputs": [],
   "source": [
    "def dist_haversiana(lon1,lat1,lon2,lat2):\n",
    "  R=6371.0 #radio tierra\n",
    "  lon1,lat1,lon2,lat2=map(np.radians,[lon1,lat1,lon2,lat2])\n",
    "  dlon=lon2-lon1\n",
    "  dlat=lat2-lat1\n",
    "  a = np.sin(dlat / 2.0)**2 + np.cos(lat1) * np.cos(lat2) * np.sin(dlon / 2.0)**2\n",
    "  c = 2 * np.arcsin(np.sqrt(a))\n",
    "  return R * c"
   ]
  },
  {
   "cell_type": "code",
   "execution_count": 114,
   "id": "ebd554b3",
   "metadata": {},
   "outputs": [],
   "source": [
    "DIST={}\n",
    "for i,depot in depots_df.iterrows():\n",
    "  for j,client in clients_df.iterrows():\n",
    "    di=depot[\"DepotID\"]\n",
    "    ci=client[\"ClientID\"]\n",
    "    distance=dist_haversiana(depot[\"Longitude\"],depot[\"Latitude\"],\n",
    "                             client[\"Longitude\"],client[\"Latitude\"]\n",
    "                             )\n",
    "    DIST[(di,ci)]=round(distance,2)"
   ]
  },
  {
   "cell_type": "code",
   "execution_count": 115,
   "id": "b0b05415",
   "metadata": {},
   "outputs": [
    {
     "name": "stdout",
     "output_type": "stream",
     "text": [
      "La distancia entre el centro de distribucion 1.0 y el cliente 1.0 es de 17.26\n",
      "La distancia entre el centro de distribucion 1.0 y el cliente 2.0 es de 10.62\n",
      "La distancia entre el centro de distribucion 1.0 y el cliente 3.0 es de 6.38\n",
      "La distancia entre el centro de distribucion 1.0 y el cliente 4.0 es de 16.6\n",
      "La distancia entre el centro de distribucion 1.0 y el cliente 5.0 es de 10.62\n"
     ]
    }
   ],
   "source": [
    "for key, val in list(DIST.items())[:5]:\n",
    "  print(\"La distancia entre el centro de distribucion\", key[0], \"y el cliente\", key[1], \"es de\", val)"
   ]
  },
  {
   "cell_type": "code",
   "execution_count": 116,
   "id": "214a99f3",
   "metadata": {},
   "outputs": [],
   "source": [
    "V=list(vehicles_df.index)\n",
    "Q = dict(zip(V, vehicles_df[\"Capacity\"]))\n",
    "\n",
    "\n",
    "R = dict(zip(V, vehicles_df[\"Range\"]))"
   ]
  },
  {
   "cell_type": "code",
   "execution_count": 117,
   "id": "57ea14b9",
   "metadata": {},
   "outputs": [
    {
     "name": "stdout",
     "output_type": "stream",
     "text": [
      "Vehículos: [0, 1, 2, 3, 4, 5, 6, 7]\n",
      "Capacidades: {0: 130, 1: 140, 2: 120, 3: 100, 4: 70, 5: 55, 6: 110, 7: 114}\n",
      "Rangos: {0: 170, 1: 200, 2: 180, 3: 90, 4: 100, 5: 170, 6: 150, 7: 140}\n"
     ]
    }
   ],
   "source": [
    "print(\"Vehículos:\", V)\n",
    "print(\"Capacidades:\", Q)\n",
    "print(\"Rangos:\", R)"
   ]
  },
  {
   "cell_type": "code",
   "execution_count": 118,
   "id": "0db31fca",
   "metadata": {},
   "outputs": [
    {
     "name": "stdout",
     "output_type": "stream",
     "text": [
      "vehiculo 0: Tipo=Gas Car, Capacidad=130, Rango=170\n",
      "vehiculo 1: Tipo=Gas Car, Capacidad=140, Rango=200\n",
      "vehiculo 2: Tipo=Gas Car, Capacidad=120, Rango=180\n",
      "vehiculo 3: Tipo=Gas Car, Capacidad=100, Rango=90\n",
      "vehiculo 4: Tipo=Gas Car, Capacidad=70, Rango=100\n",
      "vehiculo 5: Tipo=Gas Car, Capacidad=55, Rango=170\n",
      "vehiculo 6: Tipo=Gas Car, Capacidad=110, Rango=150\n",
      "vehiculo 7: Tipo=Gas Car, Capacidad=114, Rango=140\n"
     ]
    }
   ],
   "source": [
    "for v in V:\n",
    "    print(f\"vehiculo {v}: Tipo={vehicles_df['VehicleType'][v]}, Capacidad={Q[v]}, Rango={R[v]}\")"
   ]
  },
  {
   "cell_type": "markdown",
   "id": "1eaa131e",
   "metadata": {},
   "source": [
    "Implementar metodo metaheurístico: Algorimo genético "
   ]
  },
  {
   "cell_type": "markdown",
   "id": "0f555ee2",
   "metadata": {},
   "source": [
    "Parametros"
   ]
  },
  {
   "cell_type": "code",
   "execution_count": 119,
   "id": "d104369e",
   "metadata": {},
   "outputs": [],
   "source": [
    "pupulation_size = 50\n",
    "max_generations = 100\n",
    "crossover_rate = 0.8\n",
    "mutation_rate = 0.2\n",
    "elitism_count = 2"
   ]
  },
  {
   "cell_type": "markdown",
   "id": "14e8168b",
   "metadata": {},
   "source": [
    "Inicialización de la población"
   ]
  },
  {
   "cell_type": "markdown",
   "id": "87df97f3",
   "metadata": {},
   "source": [
    "La población es el conjunto de individuos que representan posibles soluciones. En este caso un individuo representa una forma distinta de asignar clientes a vehículos, definir el orden de visita de esos clientes por vehículo y respetar la capacidad del vehículo."
   ]
  },
  {
   "cell_type": "code",
   "execution_count": null,
   "id": "6ab0d8ad",
   "metadata": {},
   "outputs": [
    {
     "name": "stdout",
     "output_type": "stream",
     "text": [
      "CAP [130, 140, 120, 100, 70, 55, 110, 114]\n",
      "DEM {1: 13, 2: 15, 3: 12, 4: 15, 5: 20, 6: 17, 7: 17, 8: 20, 9: 20, 10: 15, 11: 17, 12: 12, 13: 21, 14: 15, 15: 17, 16: 10, 17: 25, 18: 12, 19: 11, 20: 15, 21: 14, 22: 18, 23: 15, 24: 11}\n",
      "cap vehiculos\n"
     ]
    }
   ],
   "source": [
    "def inicializar_poblacion(poblacion_size, clients, cap_vehiculos, dem_clients):\n",
    "    poblacion = []\n",
    "    for _ in range(poblacion_size):\n",
    "        clientes_barajados = clients.copy()\n",
    "        np.random.shuffle(clientes_barajados)\n",
    "\n",
    "        individuo = []\n",
    "        ruta_actual = []\n",
    "        carga_actual = 0\n",
    "        capacidad_idx = 0\n",
    "\n",
    "        for cliente in clientes_barajados:\n",
    "            demanda = dem_clients[cliente]\n",
    "            if carga_actual + demanda <= cap_vehiculos[capacidad_idx]:\n",
    "                ruta_actual.append(cliente)\n",
    "                carga_actual += demanda\n",
    "            else:\n",
    "                individuo.append(ruta_actual)\n",
    "                capacidad_idx += 1\n",
    "                if capacidad_idx >= len(cap_vehiculos):\n",
    "                    break\n",
    "                ruta_actual = [cliente]\n",
    "                carga_actual = demanda\n",
    "\n",
    "        if ruta_actual:\n",
    "            individuo.append(ruta_actual)\n",
    "\n",
    "        poblacion.append(individuo)\n",
    "    return poblacion\n",
    "\n",
    "def fitness(individual, distancias, deposito_id, coords_clientes, cap_vehiculos, dem_clients):\n",
    "    costo_total = 0\n",
    "    penalizacion = 0\n",
    "\n",
    "    for idx, ruta in enumerate(individual):\n",
    "        if not ruta:\n",
    "            continue\n",
    "\n",
    "        carga = sum(dem_clients[c] for c in ruta)\n",
    "        if carga > cap_vehiculos[min(idx, len(cap_vehiculos)-1)]:\n",
    "            penalizacion += 1000 * (carga - cap_vehiculos[min(idx, len(cap_vehiculos)-1)])\n",
    "\n",
    "        costo_total += distancias[(deposito_id, ruta[0])]\n",
    "        for i in range(len(ruta) - 1):\n",
    "            c1, c2 = ruta[i], ruta[i+1]\n",
    "            lon1, lat1 = coords_clientes[c1]\n",
    "            lon2, lat2 = coords_clientes[c2]\n",
    "            costo_total += dist_haversiana(lon1, lat1, lon2, lat2)\n",
    "        costo_total += distancias[(deposito_id, ruta[-1])]\n",
    "\n",
    "    return costo_total + penalizacion\n",
    "\n",
    "def seleccion_torneo(population, fitness_scores, k=2):\n",
    "    selected = []\n",
    "    for _ in range(len(population)):\n",
    "        indices = random.sample(range(len(population)), k)\n",
    "        mejor_idx = min(indices, key=lambda i: fitness_scores[i])\n",
    "        selected.append(copy.deepcopy(population[mejor_idx]))\n",
    "    return selected\n",
    "\n",
    "def crossover_rutas(p1, p2):\n",
    "    hijo1, hijo2 = [], []\n",
    "\n",
    "    split1 = random.randint(0, len(p1)-1)\n",
    "    split2 = random.randint(0, len(p2)-1)\n",
    "\n",
    "    r1 = p1[:split1]\n",
    "    r2 = p2[split2:]\n",
    "\n",
    "    flat_r1 = set(sum(r1, []))\n",
    "    flat_r2 = set(sum(r2, []))\n",
    "\n",
    "    restantes1 = [c for ruta in p2 for c in ruta if c not in flat_r1]\n",
    "    restantes2 = [c for ruta in p1 for c in ruta if c not in flat_r2]\n",
    "\n",
    "    hijo1 = r1 + [restantes1]\n",
    "    hijo2 = r2 + [restantes2]\n",
    "\n",
    "    return hijo1, hijo2\n",
    "\n",
    "def mutar_individuo(individual):\n",
    "    rutas_validas = [ruta for ruta in individual if len(ruta) >= 1]\n",
    "    if len(rutas_validas) < 2:\n",
    "        return\n",
    "\n",
    "    r1, r2 = random.sample(rutas_validas, 2)\n",
    "    i1 = random.randint(0, len(r1) - 1)\n",
    "    i2 = random.randint(0, len(r2) - 1)\n",
    "    r1[i1], r2[i2] = r2[i2], r1[i1]\n",
    "\n",
    "\n",
    "\n",
    "# K clientes \n",
    "# Q capacidades de los vehiculos\n",
    "# DEM demanda de los clientes\n",
    "cap_vehiculos_transform = [Q[v] for v in V] \n",
    "population = inicializar_poblacion(pupulation_size, K, cap_vehiculos_transform, DEM)\n",
    "# print(\"K\",K)\n",
    "print(\"CAP\",cap_vehiculos_transform)\n",
    "print(\"DEM\",DEM)\n",
    "print(\"cap vehiculos\",)\n",
    "# print(\"Dist: \", DIST)\n",
    "# print(\"Distancia cliente: \" , COORDENADAS_CLIENTES)\n",
    "\n",
    "# for i, individuo in enumerate(population):\n",
    "#     clientes_visitados = sum(individuo, [])  # Flatten all rutas\n",
    "#     if len(clientes_visitados) != len(set(clientes_visitados)):\n",
    "#         print(f\"Individuo {i} tiene clientes repetidos\")\n",
    "#     else:\n",
    "#         print(f\"Individuo {i} es válido \")\n",
    "\n",
    "DIST_correctos_ids = {(int(i), int(j)): float(d) for (i, j), d in DIST.items()}\n",
    "\n",
    "# Evaluar la población inicial\n",
    "fitness_scores = [\n",
    "    fitness(ind, DIST_correctos_ids, 1, COORDENADAS_CLIENTES, cap_vehiculos_transform, DEM)\n",
    "    for ind in population\n",
    "]\n",
    "\n",
    "# print(\"Poblacion inicial: \", population)\n",
    "# print(\"Fitness scores: \", fitness_scores)\n",
    "\n",
    "for generation in range(max_generations):\n",
    "    # Selección\n",
    "    mating_pool = seleccion_torneo(population, fitness_scores)\n",
    "\n",
    "    # Cruce\n",
    "    offspring = []\n",
    "    for _ in range((pupulation_size - elitism_count) // 2):\n",
    "        p1, p2 = random.sample(mating_pool, 2)\n",
    "        if random.random() < crossover_rate:\n",
    "            h1, h2 = crossover_rutas(p1, p2)\n",
    "        else:\n",
    "            h1, h2 = p1.copy(), p2.copy()\n",
    "        offspring.extend([h1, h2])\n",
    "\n",
    "    # Mutación\n",
    "    for individual in offspring:\n",
    "        if random.random() < mutation_rate:\n",
    "            mutar_individuo(individual)\n",
    "\n",
    "    # Evaluar descendencia\n",
    "    # Evaluar descendencia\n",
    "    offspring_fitness = [\n",
    "        fitness(ind, DIST_correctos_ids, 1, COORDENADAS_CLIENTES, cap_vehiculos_transform, DEM)\n",
    "        for ind in offspring\n",
    "    ]\n",
    "\n",
    "    # Elitismo sobre población actual\n",
    "    elite_indices = sorted(range(len(fitness_scores)), key=lambda i: fitness_scores[i])[:elitism_count]\n",
    "    elites = [copy.deepcopy(population[i]) for i in elite_indices]\n",
    "    elite_fitness = [fitness_scores[i] for i in elite_indices]\n",
    "\n",
    "    # Nueva población y sus fitness\n",
    "    population = elites + offspring[:pupulation_size - elitism_count]\n",
    "    fitness_scores = elite_fitness + offspring_fitness[:pupulation_size - elitism_count]\n",
    "\n",
    "    # (Opcional) Registrar mejor fitness por generación"
   ]
  },
  {
   "cell_type": "code",
   "execution_count": 121,
   "id": "459707f2",
   "metadata": {},
   "outputs": [
    {
     "name": "stdout",
     "output_type": "stream",
     "text": [
      "\n",
      "🔎 Mejor solución encontrada:\n",
      "Costo total: 196.5\n",
      "Rutas asignadas:\n",
      "  Vehículo 1: [6, 15, 4, 1, 22, 13, 23, 12]\n",
      "  Vehículo 2: [18, 19, 21, 7, 8, 9, 24, 2]\n",
      "  Vehículo 3: [14, 10, 16, 5, 3, 17]\n"
     ]
    }
   ],
   "source": [
    "# Encontrar el mejor individuo después de todas las generaciones\n",
    "mejor_idx = fitness_scores.index(min(fitness_scores))\n",
    "mejor_individuo = population[mejor_idx]\n",
    "mejor_costo = fitness_scores[mejor_idx]\n",
    "\n",
    "print(\"\\n🔎 Mejor solución encontrada:\")\n",
    "print(\"Costo total:\", round(mejor_costo, 2))\n",
    "print(\"Rutas asignadas:\")\n",
    "for i, ruta in enumerate(mejor_individuo):\n",
    "    print(f\"  Vehículo {i+1}: {ruta}\")"
   ]
  },
  {
   "cell_type": "code",
   "execution_count": 124,
   "id": "61f1fcc0",
   "metadata": {},
   "outputs": [],
   "source": [
    "import folium\n",
    "\n",
    "# Encontrar el mejor individuo\n",
    "mejor_idx = fitness_scores.index(min(fitness_scores))\n",
    "mejor_individuo = population[mejor_idx]\n",
    "\n",
    "# Crear el mapa centrado en Bogotá\n",
    "mapa = folium.Map(location=[4.60971, -74.08175], zoom_start=12)\n",
    "\n",
    "# Marcar el depósito (usando solo uno para este caso)\n",
    "for _, depot in depots_df.iterrows():\n",
    "    folium.Marker(\n",
    "        location=[depot['Latitude'], depot['Longitude']], \n",
    "        popup=f\"CD {depot['DepotID']}\", \n",
    "        icon=folium.Icon(color='blue')\n",
    "    ).add_to(mapa)\n",
    "\n",
    "# Marcar todos los clientes\n",
    "for _, client in clients_df.iterrows():\n",
    "    folium.Marker(\n",
    "        location=[client['Latitude'], client['Longitude']], \n",
    "        popup=f\"Cliente {client['ClientID']}\",\n",
    "        icon=folium.Icon(color='green')\n",
    "    ).add_to(mapa)\n",
    "\n",
    "# Dibujar rutas del mejor individuo\n",
    "for ruta in mejor_individuo:\n",
    "    if not ruta:\n",
    "        continue\n",
    "    ruta_coords = []\n",
    "\n",
    "    # Punto de inicio (depósito)\n",
    "    cd_lat = depots_df.iloc[0]['Latitude']\n",
    "    cd_lon = depots_df.iloc[0]['Longitude']\n",
    "    ruta_coords.append([cd_lat, cd_lon])\n",
    "\n",
    "    # Coordenadas de clientes en la ruta\n",
    "    for cliente_id in ruta:\n",
    "        client_lat, client_lon = COORDENADAS_CLIENTES[cliente_id][1], COORDENADAS_CLIENTES[cliente_id][0]\n",
    "        ruta_coords.append([client_lat, client_lon])\n",
    "\n",
    "    # Retorno al depósito\n",
    "    ruta_coords.append([cd_lat, cd_lon])\n",
    "\n",
    "    folium.PolyLine(ruta_coords, color='red', weight=2.5, opacity=1).add_to(mapa)\n",
    "\n",
    "# Guardar el resultado\n",
    "mapa.save(\"mejor_ruta.html\")\n"
   ]
  },
  {
   "cell_type": "code",
   "execution_count": 125,
   "id": "46db95fa",
   "metadata": {},
   "outputs": [],
   "source": [
    "import folium\n",
    "\n",
    "mapa = folium.Map(location=[4.6, -74.1], zoom_start=12)\n",
    "colors = [\"red\", \"blue\", \"green\", \"orange\", \"purple\", \"darkred\", \"cadetblue\", \"gray\"]\n",
    "\n",
    "for i, ruta in enumerate(mejor_individuo):\n",
    "    coords = [[COORDENADAS_CLIENTES[c][1], COORDENADAS_CLIENTES[c][0]] for c in ruta]\n",
    "    coords.insert(0, [depots_df.iloc[0][\"Latitude\"], depots_df.iloc[0][\"Longitude\"]])  # desde depósito\n",
    "    coords.append([depots_df.iloc[0][\"Latitude\"], depots_df.iloc[0][\"Longitude\"]])     # regreso\n",
    "\n",
    "    folium.PolyLine(coords, color=colors[i % len(colors)], weight=3).add_to(mapa)\n",
    "\n",
    "mapa.save(\"mejor_rutaOtraAlternativa.html\")\n"
   ]
  },
  {
   "cell_type": "markdown",
   "id": "9929b56d",
   "metadata": {},
   "source": [
    "Evaluación"
   ]
  },
  {
   "cell_type": "markdown",
   "id": "87517c7b",
   "metadata": {},
   "source": [
    "Selección"
   ]
  },
  {
   "cell_type": "markdown",
   "id": "59e3c5f2",
   "metadata": {},
   "source": [
    "Cruce(recombinación)"
   ]
  },
  {
   "cell_type": "markdown",
   "id": "67f229c9",
   "metadata": {},
   "source": [
    "Mutación"
   ]
  },
  {
   "cell_type": "markdown",
   "id": "5c898aad",
   "metadata": {},
   "source": [
    "Reemplazo"
   ]
  },
  {
   "cell_type": "markdown",
   "id": "f3b6a422",
   "metadata": {},
   "source": [
    "Iteración"
   ]
  }
 ],
 "metadata": {
  "kernelspec": {
   "display_name": "pyomo_env",
   "language": "python",
   "name": "python3"
  },
  "language_info": {
   "codemirror_mode": {
    "name": "ipython",
    "version": 3
   },
   "file_extension": ".py",
   "mimetype": "text/x-python",
   "name": "python",
   "nbconvert_exporter": "python",
   "pygments_lexer": "ipython3",
   "version": "3.9.21"
  }
 },
 "nbformat": 4,
 "nbformat_minor": 5
}
