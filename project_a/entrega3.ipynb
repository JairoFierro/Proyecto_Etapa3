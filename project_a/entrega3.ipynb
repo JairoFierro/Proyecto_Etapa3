{
 "cells": [
  {
   "cell_type": "markdown",
   "id": "cca9763e",
   "metadata": {},
   "source": [
    "Imports"
   ]
  },
  {
   "cell_type": "code",
   "execution_count": 706,
   "id": "8fb50a82",
   "metadata": {},
   "outputs": [],
   "source": [
    "import pandas as pd\n",
    "import numpy as np\n",
    "from pyomo.environ import * \n",
    "from pyomo.opt import SolverFactory\n",
    "import folium\n",
    "import csv\n",
    "import random  \n",
    "import copy\n",
    "from collections import Counter"
   ]
  },
  {
   "cell_type": "markdown",
   "id": "45a98cba",
   "metadata": {},
   "source": [
    "Cargar archivos requerido por la instancia"
   ]
  },
  {
   "cell_type": "code",
   "execution_count": 707,
   "id": "0880d7e6",
   "metadata": {},
   "outputs": [],
   "source": [
    "clients_df = pd.read_csv(\"Proyecto_A_Caso2/clients.csv\")\n",
    "depots_df = pd.read_csv(\"Proyecto_Caso_Base/depots.csv\")\n",
    "vehicles_df = pd.read_csv(\"Proyecto_A_Caso2/vehicles.csv\")\n"
   ]
  },
  {
   "cell_type": "code",
   "execution_count": 708,
   "id": "a07c7cf7",
   "metadata": {},
   "outputs": [
    {
     "name": "stdout",
     "output_type": "stream",
     "text": [
      "   ClientID  LocationID  Demand  Longitude  Latitude\n",
      "0         1          13      12 -74.196992  4.632553\n",
      "1         2          14      15 -74.155037  4.601328\n",
      "2         3          15      15 -74.101787  4.732421\n",
      "3         4          16       6 -74.194862  4.638612\n",
      "4         5          17       5 -74.110272  4.727692\n",
      "5         6          18      11 -74.152289  4.665003\n",
      "6         7          19      12 -74.032411  4.677102\n",
      "7         8          20      10 -74.062476  4.707007\n",
      "8         9          21      15 -74.098042  4.636075\n",
      "   LocationID  DepotID  Longitude  Latitude  Capacity\n",
      "0           1        1 -74.153536  4.743359        90\n",
      "  VehicleType    Capacity        Range\n",
      "0     Gas Car  131.921140   145.852071\n",
      "1          EV  108.435620  1304.605971\n",
      "2          EV   91.504255   953.172609\n",
      "3       drone   32.896064    17.302304\n",
      "4       drone   22.652628    16.627680\n",
      "5       drone   22.682912    13.602811\n"
     ]
    }
   ],
   "source": [
    "print(clients_df)\n",
    "print(depots_df)\n",
    "print(vehicles_df)\n",
    "capacidad_maxima = vehicles_df['Capacity'].max()\n",
    "\n",
    "vehicles_df['Capacity'] = capacidad_maxima"
   ]
  },
  {
   "cell_type": "code",
   "execution_count": 709,
   "id": "571d09fa",
   "metadata": {},
   "outputs": [],
   "source": [
    "C=list(depots_df[\"DepotID\"])\n",
    "CAP=dict(zip(depots_df[\"DepotID\"],depots_df[\"Capacity\"]))"
   ]
  },
  {
   "cell_type": "code",
   "execution_count": 710,
   "id": "4f3c2292",
   "metadata": {},
   "outputs": [
    {
     "name": "stdout",
     "output_type": "stream",
     "text": [
      "Conjunto C: [1]\n",
      "Capacidades CAP_i: {1: 90}\n"
     ]
    }
   ],
   "source": [
    "print(\"Conjunto C:\", C)\n",
    "print(\"Capacidades CAP_i:\", CAP)"
   ]
  },
  {
   "cell_type": "code",
   "execution_count": 711,
   "id": "f6bb8653",
   "metadata": {},
   "outputs": [],
   "source": [
    "K=list(clients_df[\"ClientID\"])\n",
    "DEM=dict(zip(clients_df[\"ClientID\"],clients_df[\"Demand\"])) \n",
    "COORDENADAS_CLIENTES=dict(zip(clients_df[\"ClientID\"],zip(clients_df[\"Longitude\"],clients_df[\"Latitude\"])))"
   ]
  },
  {
   "cell_type": "code",
   "execution_count": 712,
   "id": "5d4b91b7",
   "metadata": {},
   "outputs": [
    {
     "name": "stdout",
     "output_type": "stream",
     "text": [
      "Conjunto K: clientes [1, 2, 3, 4, 5, 6, 7, 8, 9]\n",
      "Capacidades Demanda: {1: 12, 2: 15, 3: 15, 4: 6, 5: 5, 6: 11, 7: 12, 8: 10, 9: 15}\n",
      "Coordenadas clientes: {1: (-74.19699184741948, 4.632552840424734), 2: (-74.15503659129905, 4.601328214582278), 3: (-74.10178731827096, 4.732421040989568), 4: (-74.19486224157397, 4.638612189685843), 5: (-74.11027242131048, 4.727691608175209), 6: (-74.15228946899238, 4.665002925306577), 7: (-74.03241075805882, 4.6771016997028205), 8: (-74.0624758742746, 4.707007012114083), 9: (-74.09804168568287, 4.636074548012315)}\n"
     ]
    }
   ],
   "source": [
    "print(\"Conjunto K: clientes\", K)\n",
    "print(\"Capacidades Demanda:\", DEM)\n",
    "print(\"Coordenadas clientes:\", COORDENADAS_CLIENTES)"
   ]
  },
  {
   "cell_type": "markdown",
   "id": "ac4a08fe",
   "metadata": {},
   "source": [
    "Distancia harvesiana"
   ]
  },
  {
   "cell_type": "code",
   "execution_count": 713,
   "id": "7a62022d",
   "metadata": {},
   "outputs": [],
   "source": [
    "def dist_haversiana(lon1,lat1,lon2,lat2):\n",
    "  R=6371.0 #radio tierra\n",
    "  lon1,lat1,lon2,lat2=map(np.radians,[lon1,lat1,lon2,lat2])\n",
    "  dlon=lon2-lon1\n",
    "  dlat=lat2-lat1\n",
    "  a = np.sin(dlat / 2.0)**2 + np.cos(lat1) * np.cos(lat2) * np.sin(dlon / 2.0)**2\n",
    "  c = 2 * np.arcsin(np.sqrt(a))\n",
    "  return R * c"
   ]
  },
  {
   "cell_type": "code",
   "execution_count": 714,
   "id": "ebd554b3",
   "metadata": {},
   "outputs": [],
   "source": [
    "DIST={}\n",
    "for i,depot in depots_df.iterrows():\n",
    "  for j,client in clients_df.iterrows():\n",
    "    di=depot[\"DepotID\"]\n",
    "    ci=client[\"ClientID\"]\n",
    "    distance=dist_haversiana(depot[\"Longitude\"],depot[\"Latitude\"],\n",
    "                             client[\"Longitude\"],client[\"Latitude\"]\n",
    "                             )\n",
    "    DIST[(di,ci)]=round(distance,2)"
   ]
  },
  {
   "cell_type": "code",
   "execution_count": 715,
   "id": "b0b05415",
   "metadata": {},
   "outputs": [
    {
     "name": "stdout",
     "output_type": "stream",
     "text": [
      "La distancia entre el centro de distribucion 1.0 y el cliente 1.0 es de 13.23\n",
      "La distancia entre el centro de distribucion 1.0 y el cliente 2.0 es de 15.79\n",
      "La distancia entre el centro de distribucion 1.0 y el cliente 3.0 es de 5.86\n",
      "La distancia entre el centro de distribucion 1.0 y el cliente 4.0 es de 12.52\n",
      "La distancia entre el centro de distribucion 1.0 y el cliente 5.0 es de 5.1\n"
     ]
    }
   ],
   "source": [
    "for key, val in list(DIST.items())[:5]:\n",
    "  print(\"La distancia entre el centro de distribucion\", key[0], \"y el cliente\", key[1], \"es de\", val)"
   ]
  },
  {
   "cell_type": "code",
   "execution_count": 716,
   "id": "214a99f3",
   "metadata": {},
   "outputs": [],
   "source": [
    "V=list(vehicles_df.index)\n",
    "Q = dict(zip(V, vehicles_df[\"Capacity\"]))\n",
    "\n",
    "\n",
    "R = dict(zip(V, vehicles_df[\"Range\"]))"
   ]
  },
  {
   "cell_type": "code",
   "execution_count": 717,
   "id": "57ea14b9",
   "metadata": {},
   "outputs": [
    {
     "name": "stdout",
     "output_type": "stream",
     "text": [
      "Vehículos: [0, 1, 2, 3, 4, 5]\n",
      "Capacidades: {0: 131.9211396722696, 1: 131.9211396722696, 2: 131.9211396722696, 3: 131.9211396722696, 4: 131.9211396722696, 5: 131.9211396722696}\n",
      "Rangos: {0: 145.85207096486445, 1: 1304.605971281605, 2: 953.172608610164, 3: 17.302304187458727, 4: 16.627680130757895, 5: 13.602810739289229}\n"
     ]
    }
   ],
   "source": [
    "print(\"Vehículos:\", V)\n",
    "print(\"Capacidades:\", Q)\n",
    "print(\"Rangos:\", R)"
   ]
  },
  {
   "cell_type": "code",
   "execution_count": 718,
   "id": "0db31fca",
   "metadata": {},
   "outputs": [
    {
     "name": "stdout",
     "output_type": "stream",
     "text": [
      "vehiculo 0: Tipo=Gas Car, Capacidad=131.9211396722696, Rango=145.85207096486445\n",
      "vehiculo 1: Tipo=EV, Capacidad=131.9211396722696, Rango=1304.605971281605\n",
      "vehiculo 2: Tipo=EV, Capacidad=131.9211396722696, Rango=953.172608610164\n",
      "vehiculo 3: Tipo=drone, Capacidad=131.9211396722696, Rango=17.302304187458727\n",
      "vehiculo 4: Tipo=drone, Capacidad=131.9211396722696, Rango=16.627680130757895\n",
      "vehiculo 5: Tipo=drone, Capacidad=131.9211396722696, Rango=13.602810739289229\n"
     ]
    }
   ],
   "source": [
    "for v in V:\n",
    "    print(f\"vehiculo {v}: Tipo={vehicles_df['VehicleType'][v]}, Capacidad={Q[v]}, Rango={R[v]}\")"
   ]
  },
  {
   "cell_type": "markdown",
   "id": "1eaa131e",
   "metadata": {},
   "source": [
    "Implementar metodo metaheurístico: Algorimo genético "
   ]
  },
  {
   "cell_type": "markdown",
   "id": "0f555ee2",
   "metadata": {},
   "source": [
    "Parametros"
   ]
  },
  {
   "cell_type": "code",
   "execution_count": 719,
   "id": "d104369e",
   "metadata": {},
   "outputs": [],
   "source": [
    "pupulation_size = 120\n",
    "max_generations = 200\n",
    "crossover_rate = 0.6\n",
    "mutation_rate = 0.4\n",
    "elitism_count = 4"
   ]
  },
  {
   "cell_type": "markdown",
   "id": "14e8168b",
   "metadata": {},
   "source": [
    "Inicialización de la población"
   ]
  },
  {
   "cell_type": "markdown",
   "id": "87df97f3",
   "metadata": {},
   "source": [
    "La población es el conjunto de individuos que representan posibles soluciones. En este caso un individuo representa una forma distinta de asignar clientes a vehículos, definir el orden de visita de esos clientes por vehículo y respetar la capacidad del vehículo."
   ]
  },
  {
   "cell_type": "code",
   "execution_count": null,
   "id": "6ab0d8ad",
   "metadata": {},
   "outputs": [
    {
     "name": "stdout",
     "output_type": "stream",
     "text": [
      "CAP [131.9211396722696, 131.9211396722696, 131.9211396722696, 131.9211396722696, 131.9211396722696, 131.9211396722696]\n",
      "DEM {1: 12, 2: 15, 3: 15, 4: 6, 5: 5, 6: 11, 7: 12, 8: 10, 9: 15}\n",
      "cap vehiculos\n",
      "Rango vehiculos:  [145.85207096486445, 1304.605971281605, 953.172608610164, 17.302304187458727, 16.627680130757895, 13.602810739289229]\n",
      "Debug inicial:\n"
     ]
    },
    {
     "ename": "NameError",
     "evalue": "name 'fit' is not defined",
     "output_type": "error",
     "traceback": [
      "\u001b[1;31m---------------------------------------------------------------------------\u001b[0m",
      "\u001b[1;31mNameError\u001b[0m                                 Traceback (most recent call last)",
      "Cell \u001b[1;32mIn[721], line 280\u001b[0m\n\u001b[0;32m    278\u001b[0m \u001b[38;5;28mprint\u001b[39m(\u001b[38;5;124m\"\u001b[39m\u001b[38;5;124mDebug inicial:\u001b[39m\u001b[38;5;124m\"\u001b[39m)\n\u001b[0;32m    279\u001b[0m \u001b[38;5;28;01mfor\u001b[39;00m i, ind \u001b[38;5;129;01min\u001b[39;00m \u001b[38;5;28menumerate\u001b[39m(population[:\u001b[38;5;241m5\u001b[39m]):\n\u001b[1;32m--> 280\u001b[0m     fit, costo, penal \u001b[38;5;241m=\u001b[39m \u001b[43mfitness\u001b[49m\u001b[43m(\u001b[49m\u001b[43mind\u001b[49m\u001b[43m,\u001b[49m\u001b[43m \u001b[49m\u001b[43mDIST_correctos_ids\u001b[49m\u001b[43m,\u001b[49m\u001b[43m \u001b[49m\u001b[38;5;241;43m1\u001b[39;49m\u001b[43m,\u001b[49m\u001b[43m \u001b[49m\u001b[43mCOORDENADAS_CLIENTES\u001b[49m\u001b[43m,\u001b[49m\u001b[43m \u001b[49m\u001b[43mcap_vehiculos_transform\u001b[49m\u001b[43m,\u001b[49m\u001b[43m \u001b[49m\u001b[43mDEM\u001b[49m\u001b[43m,\u001b[49m\u001b[43m \u001b[49m\u001b[43mclients_df\u001b[49m\u001b[43m[\u001b[49m\u001b[38;5;124;43m\"\u001b[39;49m\u001b[38;5;124;43mClientID\u001b[39;49m\u001b[38;5;124;43m\"\u001b[39;49m\u001b[43m]\u001b[49m\u001b[38;5;241;43m.\u001b[39;49m\u001b[43mtolist\u001b[49m\u001b[43m(\u001b[49m\u001b[43m)\u001b[49m\u001b[43m,\u001b[49m\u001b[43m \u001b[49m\u001b[43mrango_vehiculos\u001b[49m\u001b[43m)\u001b[49m\n\u001b[0;32m    281\u001b[0m     \u001b[38;5;28mprint\u001b[39m(\u001b[38;5;124mf\u001b[39m\u001b[38;5;124m\"\u001b[39m\u001b[38;5;124mInd \u001b[39m\u001b[38;5;132;01m{\u001b[39;00mi\u001b[38;5;132;01m}\u001b[39;00m\u001b[38;5;124m: fitness total = \u001b[39m\u001b[38;5;132;01m{\u001b[39;00mfit\u001b[38;5;132;01m}\u001b[39;00m\u001b[38;5;124m, costo real = \u001b[39m\u001b[38;5;132;01m{\u001b[39;00mcosto\u001b[38;5;132;01m}\u001b[39;00m\u001b[38;5;124m, penalización = \u001b[39m\u001b[38;5;132;01m{\u001b[39;00mpenal\u001b[38;5;132;01m}\u001b[39;00m\u001b[38;5;124m\"\u001b[39m)\n\u001b[0;32m    283\u001b[0m \u001b[38;5;66;03m# Evaluar la población inicial\u001b[39;00m\n",
      "Cell \u001b[1;32mIn[721], line 207\u001b[0m, in \u001b[0;36mfitness\u001b[1;34m(individual, distancias, deposito_id, coords_clientes, cap_vehiculos, dem_clients, clients, rango_vehiculos)\u001b[0m\n\u001b[0;32m    204\u001b[0m         penalizacion \u001b[38;5;241m+\u001b[39m\u001b[38;5;241m=\u001b[39m \u001b[38;5;241m1000\u001b[39m \u001b[38;5;241m*\u001b[39m (distancia_total \u001b[38;5;241m-\u001b[39m rango_vehiculos[\u001b[38;5;28mmin\u001b[39m(idx, \u001b[38;5;28mlen\u001b[39m(rango_vehiculos)\u001b[38;5;241m-\u001b[39m\u001b[38;5;241m1\u001b[39m)])\n\u001b[0;32m    206\u001b[0m costo_total \u001b[38;5;241m*\u001b[39m\u001b[38;5;241m=\u001b[39m (Pf \u001b[38;5;241m+\u001b[39m Ft \u001b[38;5;241m+\u001b[39m Cm)  \n\u001b[1;32m--> 207\u001b[0m \u001b[38;5;28mprint\u001b[39m(\u001b[38;5;124mf\u001b[39m\u001b[38;5;124m\"\u001b[39m\u001b[38;5;124mInd \u001b[39m\u001b[38;5;132;01m{\u001b[39;00mi\u001b[38;5;132;01m}\u001b[39;00m\u001b[38;5;124m: fitness=\u001b[39m\u001b[38;5;132;01m{\u001b[39;00mfit\u001b[38;5;132;01m}\u001b[39;00m\u001b[38;5;124m, penalización=\u001b[39m\u001b[38;5;132;01m{\u001b[39;00mpenalizacion\u001b[38;5;132;01m}\u001b[39;00m\u001b[38;5;124m\"\u001b[39m)\n\u001b[0;32m    210\u001b[0m \u001b[38;5;28;01mreturn\u001b[39;00m costo_total \u001b[38;5;241m+\u001b[39m penalizacion, costo_total, penalizacion\n",
      "\u001b[1;31mNameError\u001b[0m: name 'fit' is not defined"
     ]
    }
   ],
   "source": [
    "def repair_individual(individual, all_clients, capacities, demands):\n",
    "    \"\"\"\n",
    "\n",
    "    Revisar que todos los clientes son visitados exactamenteuna vez y se atienden las capacidades\n",
    "\n",
    "    \"\"\"\n",
    "\n",
    "    # Step 1: Identify missing and duplicated clients\n",
    "    visited_clients = set()\n",
    "    duplicated_clients = []\n",
    "    current_clients_in_routes = []\n",
    "\n",
    "    # Flatten the individual to process all clients currently in routes\n",
    "    for route in individual:\n",
    "        for client in route:\n",
    "            if client in visited_clients:\n",
    "                duplicated_clients.append(client)\n",
    "            else:\n",
    "                visited_clients.add(client)\n",
    "            current_clients_in_routes.append(client) # Keep track of clients as they appear\n",
    "\n",
    "    missing_clients = [c for c in all_clients if c not in visited_clients]\n",
    "\n",
    "    # Step 2: Remove duplicates and add missing clients\n",
    "    # Create a new, clean set of routes, ensuring no duplicates within the same route first\n",
    "    repaired_individual = []\n",
    "    for route in individual:\n",
    "        cleaned_route = []\n",
    "        seen_in_route = set()\n",
    "        for client in route:\n",
    "            if client not in seen_in_route:\n",
    "                cleaned_route.append(client)\n",
    "                seen_in_route.add(client)\n",
    "        if cleaned_route: # Only add non-empty routes\n",
    "            repaired_individual.append(cleaned_route)\n",
    "\n",
    "    final_repaired_individual = []\n",
    "    global_seen = set()\n",
    "    for route in repaired_individual:\n",
    "        new_route = []\n",
    "        for client in route:\n",
    "            if client not in global_seen:\n",
    "                new_route.append(client)\n",
    "                global_seen.add(client)\n",
    "            else:\n",
    "                missing_clients.append(client)\n",
    "        if new_route:\n",
    "            final_repaired_individual.append(new_route)\n",
    "    repaired_individual = final_repaired_individual\n",
    "\n",
    "\n",
    "    for client_to_add in missing_clients:\n",
    "        added = False\n",
    "        # Try to add to an existing route without exceeding capacity\n",
    "        for idx, route in enumerate(repaired_individual):\n",
    "            # Use min(idx, len(capacities)-1) to safely access capacities\n",
    "            vehicle_capacity = capacities[min(idx, len(capacities) - 1)]\n",
    "            current_load = sum(demands[c] for c in route)\n",
    "            if current_load + demands[client_to_add] <= vehicle_capacity:\n",
    "                route.append(client_to_add)\n",
    "                added = True\n",
    "                break\n",
    "        if not added:\n",
    "            # If no existing route can take it, create a new route for the client\n",
    "            # This implicitly assumes we have enough vehicles.\n",
    "            repaired_individual.append([client_to_add])\n",
    "\n",
    "\n",
    "    for _ in range(5): # Iterate a few times to try and balance\n",
    "        for idx, route in enumerate(repaired_individual):\n",
    "            vehicle_capacity = capacities[min(idx, len(capacities) - 1)]\n",
    "            current_load = sum(demands[c] for c in route)\n",
    "\n",
    "            if current_load > vehicle_capacity:\n",
    "                # Try to move clients from this overloaded route to other routes\n",
    "                # Sort clients by demand in descending order to move largest ones first\n",
    "                clients_in_route = sorted(route, key=lambda c: demands[c], reverse=True)\n",
    "                for client_to_move in clients_in_route:\n",
    "                    if current_load - demands[client_to_move] >= 0: # Ensure we don't go negative\n",
    "                        moved = False\n",
    "                        # Try to move to another existing route\n",
    "                        for target_idx, target_route in enumerate(repaired_individual):\n",
    "                            if idx != target_idx: # Don't move to the same route\n",
    "                                target_capacity = capacities[min(target_idx, len(capacities) - 1)]\n",
    "                                target_load = sum(demands[c] for c in target_route)\n",
    "                                if target_load + demands[client_to_move] <= target_capacity:\n",
    "                                    target_route.append(client_to_move)\n",
    "                                    route.remove(client_to_move)\n",
    "                                    current_load -= demands[client_to_move]\n",
    "                                    moved = True\n",
    "                                    break\n",
    "                        if moved:\n",
    "                            break # Move one client at a time and re-evaluate\n",
    "\n",
    "    # Ensure all routes are non-empty after all operations\n",
    "    repaired_individual = [route for route in repaired_individual if route]\n",
    "\n",
    "\n",
    "    # Final check: Ensure all original clients are still present (no accidental loss)\n",
    "    final_clients = set(sum(repaired_individual, []))\n",
    "    if len(final_clients) != len(all_clients) or not all(c in final_clients for c in all_clients):\n",
    "        # Fallback if something went wrong: reconstruct from all_clients\n",
    "        # This is a defensive measure and ideally should not be hit.\n",
    "        temp_individual = []\n",
    "        remaining_clients = list(all_clients)\n",
    "        random.shuffle(remaining_clients)\n",
    "        route_idx = 0\n",
    "        while remaining_clients and route_idx < len(capacities):\n",
    "            current_route = []\n",
    "            current_load = 0\n",
    "            while remaining_clients:\n",
    "                next_client = remaining_clients[0]\n",
    "                if current_load + demands[next_client] <= capacities[route_idx]:\n",
    "                    current_route.append(remaining_clients.pop(0))\n",
    "                    current_load += demands[next_client]\n",
    "                else:\n",
    "                    break\n",
    "            if current_route:\n",
    "                temp_individual.append(current_route)\n",
    "            route_idx += 1\n",
    "        if remaining_clients: # If clients are still left, add them to new routes\n",
    "            for client in remaining_clients:\n",
    "                temp_individual.append([client])\n",
    "        repaired_individual = temp_individual\n",
    "\n",
    "\n",
    "    return repaired_individual\n",
    "\n",
    "\n",
    "\n",
    "def inicializar_poblacion(poblacion_size, clients, cap_vehiculos, dem_clients):\n",
    "    poblacion = []\n",
    "    for _ in range(poblacion_size):\n",
    "        clientes_barajados = clients.copy()\n",
    "        np.random.shuffle(clientes_barajados)\n",
    "\n",
    "        individuo = []\n",
    "        ruta_actual = []\n",
    "        carga_actual = 0\n",
    "        capacidad_idx = 0\n",
    "\n",
    "        for cliente in clientes_barajados:\n",
    "            demanda = dem_clients[cliente]\n",
    "            if carga_actual + demanda <= cap_vehiculos[capacidad_idx]:\n",
    "                ruta_actual.append(cliente)\n",
    "                carga_actual += demanda\n",
    "            else:\n",
    "                individuo.append(ruta_actual)\n",
    "                capacidad_idx += 1\n",
    "                if capacidad_idx >= len(cap_vehiculos):\n",
    "                    break\n",
    "                ruta_actual = [cliente]\n",
    "                carga_actual = demanda\n",
    "\n",
    "        if ruta_actual:\n",
    "            individuo.append(ruta_actual)\n",
    "\n",
    "        poblacion.append(individuo)\n",
    "    return poblacion\n",
    "\n",
    "def fitness(individual, distancias, deposito_id, coords_clientes, cap_vehiculos, dem_clients, clients, rango_vehiculos):\n",
    "    costo_total = 0\n",
    "    penalizacion = 0\n",
    "    Pf = 123.12  # COP/km (combustible)\n",
    "    Ft = 823     # COP/km (flete)\n",
    "    Cm = 700     # COP/km (mantenimiento)\n",
    "\n",
    "    # Validar que cada cliente es visitado exactamente una vez\n",
    "    # y que no se repiten de lo contrario se penaliza\n",
    "    clientes_visitados = sum(individual, [])  # aplanar rutas\n",
    "    conteo = Counter(clientes_visitados)\n",
    "\n",
    "    for c in clients:\n",
    "        if conteo[c] != 1: \n",
    "            penalizacion += 1000 * abs(conteo[c] - 1)\n",
    "\n",
    "    # Recorrer cada ruta (vehículo)\n",
    "    for idx, ruta in enumerate(individual):\n",
    "        if not ruta:\n",
    "            continue\n",
    "\n",
    "        # Restricción de capacidad del vehículo\n",
    "        carga = sum(dem_clients[c] for c in ruta)\n",
    "        if carga > cap_vehiculos[min(idx, len(cap_vehiculos)-1)]:\n",
    "            penalizacion += 1000 * (carga - cap_vehiculos[min(idx, len(cap_vehiculos)-1)])\n",
    "\n",
    "        # Calcular la distancia total de esta ruta\n",
    "        distancia_total = 0\n",
    "        distancia_total += distancias[(deposito_id, ruta[0])]  \n",
    "\n",
    "        for i in range(len(ruta) - 1):\n",
    "            c1, c2 = ruta[i], ruta[i+1]\n",
    "            lon1, lat1 = coords_clientes[c1]\n",
    "            lon2, lat2 = coords_clientes[c2]\n",
    "            distancia_total += dist_haversiana(lon1, lat1, lon2, lat2)\n",
    "\n",
    "        distancia_total += distancias[(deposito_id, ruta[-1])] \n",
    "\n",
    "        costo_total += distancia_total\n",
    "\n",
    "        # Restriccion para que no se exceda el rango \n",
    "        # permitido\n",
    "        if distancia_total > rango_vehiculos[min(idx, len(rango_vehiculos)-1)]:\n",
    "            penalizacion += 1000 * (distancia_total - rango_vehiculos[min(idx, len(rango_vehiculos)-1)])\n",
    "    \n",
    "    costo_total *= (Pf + Ft + Cm)  \n",
    "\n",
    "\n",
    "    return costo_total + penalizacion, costo_total, penalizacion\n",
    "\n",
    "\n",
    "def seleccion_torneo(population, fitness_scores, k=2):\n",
    "    selected = []\n",
    "    for _ in range(len(population)):\n",
    "        indices = random.sample(range(len(population)), k)\n",
    "        mejor_idx = min(indices, key=lambda i: fitness_scores[i])\n",
    "        selected.append(copy.deepcopy(population[mejor_idx]))\n",
    "    return selected\n",
    "\n",
    "def crossover_rutas(p1, p2):\n",
    "    hijo1, hijo2 = [], []\n",
    "\n",
    "    split1 = random.randint(0, len(p1)-1)\n",
    "    split2 = random.randint(0, len(p2)-1)\n",
    "\n",
    "    r1 = p1[:split1]\n",
    "    r2 = p2[split2:]\n",
    "\n",
    "    flat_r1 = set(sum(r1, []))\n",
    "    flat_r2 = set(sum(r2, []))\n",
    "\n",
    "    restantes1 = [c for ruta in p2 for c in ruta if c not in flat_r1]\n",
    "    restantes2 = [c for ruta in p1 for c in ruta if c not in flat_r2]\n",
    "\n",
    "    hijo1 = r1 + [restantes1]\n",
    "    hijo2 = r2 + [restantes2]\n",
    "\n",
    "    return hijo1, hijo2\n",
    "\n",
    "def mutar_individuo(individual):\n",
    "    rutas_validas = [ruta for ruta in individual if len(ruta) >= 1]\n",
    "    if len(rutas_validas) < 2:\n",
    "        return\n",
    "\n",
    "    r1, r2 = random.sample(rutas_validas, 2)\n",
    "    i1 = random.randint(0, len(r1) - 1)\n",
    "    i2 = random.randint(0, len(r2) - 1)\n",
    "    r1[i1], r2[i2] = r2[i2], r1[i1]\n",
    "\n",
    "\n",
    "\n",
    "# K clientes \n",
    "# Q capacidades de los vehiculos\n",
    "# DEM demanda de los clientes\n",
    "cap_vehiculos_transform = [Q[v] for v in V] \n",
    "population = inicializar_poblacion(pupulation_size, K, cap_vehiculos_transform, DEM)\n",
    "\n",
    "\n",
    "# print(\"K\",K)\n",
    "print(\"CAP\",cap_vehiculos_transform)\n",
    "print(\"DEM\",DEM)\n",
    "print(\"cap vehiculos\",)\n",
    "# print(\"Dist: \", DIST)\n",
    "# print(\"Distancia cliente: \" , COORDENADAS_CLIENTES)\n",
    "\n",
    "# for i, individuo in enumerate(population):\n",
    "#     clientes_visitados = sum(individuo, [])  # Flatten all rutas\n",
    "#     if len(clientes_visitados) != len(set(clientes_visitados)):\n",
    "#         print(f\"Individuo {i} tiene clientes repetidos\")\n",
    "#     else:\n",
    "#         print(f\"Individuo {i} es válido \")\n",
    "\n",
    "DIST_correctos_ids = {(int(i), int(j)): float(d) for (i, j), d in DIST.items()}\n",
    "rango_vehiculos = [R[v] for v in V]  # igual que cap_vehiculos\n",
    "print(\"Rango vehiculos: \", rango_vehiculos)\n",
    "\n",
    "print(\"Debug inicial:\")\n",
    "for i, ind in enumerate(population[:5]):\n",
    "    fit, costo, penal = fitness(ind, DIST_correctos_ids, 1, COORDENADAS_CLIENTES, cap_vehiculos_transform, DEM, clients_df[\"ClientID\"].tolist(), rango_vehiculos)\n",
    "    print(f\"Ind {i}: fitness total = {fit}, costo real = {costo}, penalización = {penal}\")\n",
    "\n",
    "# Evaluar la población inicial\n",
    "fitness_scores = [\n",
    "    fitness(ind, DIST_correctos_ids, 1, COORDENADAS_CLIENTES, cap_vehiculos_transform, DEM, clients_df[\"ClientID\"].tolist(), rango_vehiculos)\n",
    "    for ind in population\n",
    "]\n",
    "\n",
    "# print(\"Poblacion inicial: \", population)\n",
    "# print(\"Fitness scores: \", fitness_scores)\n",
    "\n",
    "mejores_por_generacion = []\n",
    "\n",
    "for generation in range(max_generations):\n",
    "    # Selección\n",
    "    mating_pool = seleccion_torneo(population, fitness_scores)\n",
    "\n",
    "    # Cruce\n",
    "    offspring = []\n",
    "    for _ in range((pupulation_size - elitism_count) // 2):\n",
    "        p1, p2 = random.sample(mating_pool, 2)\n",
    "        if random.random() < crossover_rate:\n",
    "            h1, h2 = crossover_rutas(p1, p2)\n",
    "        else:\n",
    "            h1, h2 = p1.copy(), p2.copy()\n",
    "        h1_repaired = repair_individual(h1, K, cap_vehiculos_transform, DEM)\n",
    "        h2_repaired = repair_individual(h2, K, cap_vehiculos_transform, DEM)\n",
    "        offspring.extend([h1_repaired, h2_repaired])\n",
    "\n",
    "    # Mutación\n",
    "    for idx in range(len(offspring)):\n",
    "        if random.random() < mutation_rate:\n",
    "            mutar_individuo(offspring[idx])\n",
    "            # Repara el individuo después de la mutación\n",
    "            offspring[idx] = repair_individual(offspring[i], K, cap_vehiculos_transform, DEM)\n",
    "\n",
    "    # Evaluar descendencia\n",
    "    # Evaluar descendencia\n",
    "    offspring_fitness = [\n",
    "        fitness(ind, DIST_correctos_ids, 1, COORDENADAS_CLIENTES, cap_vehiculos_transform, DEM, clients_df[\"ClientID\"].tolist(), rango_vehiculos)\n",
    "        for ind in offspring\n",
    "    ]\n",
    "\n",
    "    # Elitismo sobre población actual\n",
    "    elite_indices = sorted(range(len(fitness_scores)), key=lambda i: fitness_scores[i])[:elitism_count]\n",
    "    elites = [copy.deepcopy(population[i]) for i in elite_indices]\n",
    "    elite_fitness = [fitness_scores[i] for i in elite_indices]\n",
    "\n",
    "    # Nueva población y sus fitness\n",
    "    population = elites + offspring[:pupulation_size - elitism_count]\n",
    "    fitness_scores = elite_fitness + offspring_fitness[:pupulation_size - elitism_count]\n",
    "    mejores_por_generacion.append(min(fitness_scores))\n",
    "\n",
    "    \n",
    "\n",
    "    # (Opcional) Registrar mejor fitness por generación"
   ]
  },
  {
   "cell_type": "code",
   "execution_count": null,
   "id": "459707f2",
   "metadata": {},
   "outputs": [
    {
     "name": "stdout",
     "output_type": "stream",
     "text": [
      "\n",
      " Mejor solución encontrada:\n",
      "Costo total: 121837.67\n",
      "Rutas asignadas:\n",
      "  Vehículo 1: [4, 6, 3, 5, 8, 7, 9, 2, 1]\n"
     ]
    }
   ],
   "source": [
    "# Encontrar el mejor individuo después de todas las generaciones\n",
    "mejor_idx = fitness_scores.index(min(fitness_scores))\n",
    "mejor_individuo = population[mejor_idx]\n",
    "mejor_costo = fitness_scores[mejor_idx]\n",
    "\n",
    "print(\"\\n Mejor solución encontrada:\")\n",
    "print(\"Costo total:\", round(mejor_costo, 2))\n",
    "print(\"Rutas asignadas:\")\n",
    "for i, ruta in enumerate(mejor_individuo):\n",
    "    print(f\"  Vehículo {i+1}: {ruta}\")"
   ]
  },
  {
   "cell_type": "code",
   "execution_count": null,
   "id": "61f1fcc0",
   "metadata": {},
   "outputs": [],
   "source": [
    "import folium\n",
    "\n",
    "# Encontrar el mejor individuo\n",
    "mejor_idx = fitness_scores.index(min(fitness_scores))\n",
    "mejor_individuo = population[mejor_idx]\n",
    "\n",
    "# Crear el mapa centrado en Bogotá\n",
    "mapa = folium.Map(location=[4.60971, -74.08175], zoom_start=12)\n",
    "\n",
    "# Marcar el depósito (usando solo uno para este caso)\n",
    "for _, depot in depots_df.iterrows():\n",
    "    folium.Marker(\n",
    "        location=[depot['Latitude'], depot['Longitude']], \n",
    "        popup=f\"CD {depot['DepotID']}\", \n",
    "        icon=folium.Icon(color='blue')\n",
    "    ).add_to(mapa)\n",
    "\n",
    "# Marcar todos los clientes\n",
    "for _, client in clients_df.iterrows():\n",
    "    folium.Marker(\n",
    "        location=[client['Latitude'], client['Longitude']], \n",
    "        popup=f\"Cliente {client['ClientID']}\",\n",
    "        icon=folium.Icon(color='green')\n",
    "    ).add_to(mapa)\n",
    "\n",
    "# Dibujar rutas del mejor individuo\n",
    "for ruta in mejor_individuo:\n",
    "    if not ruta:\n",
    "        continue\n",
    "    ruta_coords = []\n",
    "\n",
    "    # Punto de inicio (depósito)\n",
    "    cd_lat = depots_df.iloc[0]['Latitude']\n",
    "    cd_lon = depots_df.iloc[0]['Longitude']\n",
    "    ruta_coords.append([cd_lat, cd_lon])\n",
    "\n",
    "    # Coordenadas de clientes en la ruta\n",
    "    for cliente_id in ruta:\n",
    "        client_lat, client_lon = COORDENADAS_CLIENTES[cliente_id][1], COORDENADAS_CLIENTES[cliente_id][0]\n",
    "        ruta_coords.append([client_lat, client_lon])\n",
    "\n",
    "    # Retorno al depósito\n",
    "    ruta_coords.append([cd_lat, cd_lon])\n",
    "\n",
    "    folium.PolyLine(ruta_coords, color='red', weight=2.5, opacity=1).add_to(mapa)\n",
    "\n",
    "# Guardar el resultado\n",
    "mapa.save(\"mejor_ruta.html\")\n"
   ]
  },
  {
   "cell_type": "code",
   "execution_count": null,
   "id": "46db95fa",
   "metadata": {},
   "outputs": [],
   "source": [
    "import folium\n",
    "\n",
    "mapa = folium.Map(location=[4.6, -74.1], zoom_start=12)\n",
    "colors = [\"red\", \"blue\", \"green\", \"orange\", \"purple\", \"darkred\", \"cadetblue\", \"gray\"]\n",
    "\n",
    "for i, ruta in enumerate(mejor_individuo):\n",
    "    coords = [[COORDENADAS_CLIENTES[c][1], COORDENADAS_CLIENTES[c][0]] for c in ruta]\n",
    "    coords.insert(0, [depots_df.iloc[0][\"Latitude\"], depots_df.iloc[0][\"Longitude\"]])  # desde depósito\n",
    "    coords.append([depots_df.iloc[0][\"Latitude\"], depots_df.iloc[0][\"Longitude\"]])     # regreso\n",
    "\n",
    "    folium.PolyLine(coords, color=colors[i % len(colors)], weight=3).add_to(mapa)\n",
    "\n",
    "mapa.save(\"mejor_rutaOtraAlternativa.html\")\n"
   ]
  },
  {
   "cell_type": "code",
   "execution_count": null,
   "id": "d49e4b96",
   "metadata": {},
   "outputs": [
    {
     "data": {
      "image/png": "[encoded data removed]",
      "text/plain": [
       "<Figure size 640x480 with 1 Axes>"
      ]
     },
     "metadata": {},
     "output_type": "display_data"
    }
   ],
   "source": [
    "\n",
    "import matplotlib.pyplot as plt\n",
    "\n",
    "plt.plot(mejores_por_generacion)\n",
    "plt.title(\"Convergencia del algoritmo genético\")\n",
    "plt.xlabel(\"Generación\")\n",
    "plt.ylabel(\"Mejor Fitness\")\n",
    "plt.grid(True)\n",
    "plt.suptitle(f\"Costo AG: {mejor_costo:.2f} |   Costo Pyomo: 52675.84\", fontsize=10, color=\"green\")\n",
    "plt.savefig(\"convergencia_AG_Proyecto_Prueba.png\")\n",
    "plt.show()\n"
   ]
  },
  {
   "cell_type": "markdown",
   "id": "9929b56d",
   "metadata": {},
   "source": [
    "Evaluación"
   ]
  },
  {
   "cell_type": "markdown",
   "id": "87517c7b",
   "metadata": {},
   "source": [
    "Selección"
   ]
  },
  {
   "cell_type": "markdown",
   "id": "59e3c5f2",
   "metadata": {},
   "source": [
    "Cruce(recombinación)"
   ]
  },
  {
   "cell_type": "markdown",
   "id": "67f229c9",
   "metadata": {},
   "source": [
    "Mutación"
   ]
  },
  {
   "cell_type": "markdown",
   "id": "5c898aad",
   "metadata": {},
   "source": [
    "Reemplazo"
   ]
  },
  {
   "cell_type": "markdown",
   "id": "f3b6a422",
   "metadata": {},
   "source": [
    "Iteración"
   ]
  }
 ],
 "metadata": {
  "kernelspec": {
   "display_name": "pyomo_env",
   "language": "python",
   "name": "python3"
  },
  "language_info": {
   "codemirror_mode": {
    "name": "ipython",
    "version": 3
   },
   "file_extension": ".py",
   "mimetype": "text/x-python",
   "name": "python",
   "nbconvert_exporter": "python",
   "pygments_lexer": "ipython3",
   "version": "3.9.21"
  }
 },
 "nbformat": 4,
 "nbformat_minor": 5
}
